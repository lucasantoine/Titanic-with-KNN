{
 "cells": [
  {
   "cell_type": "markdown",
   "id": "ee5248fa",
   "metadata": {
    "papermill": {
     "duration": 0.017526,
     "end_time": "2023-04-03T22:49:08.607818",
     "exception": false,
     "start_time": "2023-04-03T22:49:08.590292",
     "status": "completed"
    },
    "tags": []
   },
   "source": [
    "# 🛳️ Titanic - Top 1% with KNN [0.81818]"
   ]
  },
  {
   "cell_type": "markdown",
   "id": "ba3b4869",
   "metadata": {
    "papermill": {
     "duration": 0.01579,
     "end_time": "2023-04-03T22:49:08.639789",
     "exception": false,
     "start_time": "2023-04-03T22:49:08.623999",
     "status": "completed"
    },
    "tags": []
   },
   "source": [
    "> #### Check out my other cool notebook !\n",
    "> - [🛳️ Titanic EDA and Prediction [0.78229]](https://www.kaggle.com/code/dreygaen/titanic-eda-and-prediction-0-78229)"
   ]
  },
  {
   "cell_type": "markdown",
   "id": "0d02c985",
   "metadata": {
    "papermill": {
     "duration": 0.015711,
     "end_time": "2023-04-03T22:49:08.671690",
     "exception": false,
     "start_time": "2023-04-03T22:49:08.655979",
     "status": "completed"
    },
    "tags": []
   },
   "source": [
    "# 📋 Table of contents\n",
    "\n",
    "- [🎓 Context](#🎓-Context)\n",
    "- [🛠️ Project Setup](#🛠️-Project-Setup)\n",
    "- [💾 Loading Data](#💾-Loading-Data)\n",
    "- [⚙️ Feature Engineering](#⚙️-Feature-Engineering)\n",
    "    - [Imputing Age](#Imputing-Age)\n",
    "    - [Family Size](#Family-Size)\n",
    "    - [Family Survival Status](#Family-Survival-Status)\n",
    "    - [Fare](#Fare)\n",
    "    - [Age](#Age)\n",
    "    - [Sex](#Sex)\n",
    "    - [Clean unused data](#Clean-unused-data)\n",
    "- [🤖 Predictive Modeling](#🤖-Predictive-Modeling)\n",
    "    - [Training](#Training)\n",
    "        - [Creating X and y](#Creating-X-and-y)\n",
    "        - [Scaling features](#Scaling-features)\n",
    "        - [Hyperparameters tuning](#Hyperparameters-tuning)\n",
    "    - [Predicting](#Predicting)\n",
    "        - [Model found by Grid Searching](#Model-found-by-Grid-Searching)\n",
    "        - [Another model with less neighbors](#Another-model-with-less-neighbors)\n",
    "        - [Confusion matrixes](#Confusion-matrixes)\n",
    "        - [Feature Importance](#Feature-Importance)\n",
    "        - [Clusters](#Clusters)\n",
    "- [🥇 Place in the leaderboard](#🥇-Place-in-the-leaderboard)\n",
    "- [📤 Submission](#📤-Submission)\n",
    "- [📝 Note of the author](#📝-Note-of-the-author)\n",
    "- [👏 Credits](#👏-Credits)"
   ]
  },
  {
   "cell_type": "markdown",
   "id": "e4f3df2e",
   "metadata": {
    "papermill": {
     "duration": 0.018135,
     "end_time": "2023-04-03T22:49:08.705769",
     "exception": false,
     "start_time": "2023-04-03T22:49:08.687634",
     "status": "completed"
    },
    "tags": []
   },
   "source": [
    "# 🎓 Context\n",
    "\n",
    "The sinking of the Titanic is one of the most infamous shipwrecks in history.\n",
    "\n",
    "On April 15, 1912, during her maiden voyage, the widely considered “unsinkable” RMS Titanic sank after colliding with an iceberg. Unfortunately, there weren’t enough lifeboats for everyone onboard, resulting in the death of 1502 out of 2224 passengers and crew.\n",
    "\n",
    "While there was some element of luck involved in surviving, it seems some groups of people were more likely to survive than others.\n",
    "\n",
    "In this challenge, they ask us to build a predictive model that answers the question: “what sorts of people were more likely to survive?” using passenger data (ie name, age, gender, socio-economic class, etc).\n",
    "\n",
    "![Titanic](https://storage.googleapis.com/kaggle-competitions/kaggle/3136/logos/front_page.png)"
   ]
  },
  {
   "cell_type": "markdown",
   "id": "0f2c7305",
   "metadata": {
    "papermill": {
     "duration": 0.016693,
     "end_time": "2023-04-03T22:49:08.738721",
     "exception": false,
     "start_time": "2023-04-03T22:49:08.722028",
     "status": "completed"
    },
    "tags": []
   },
   "source": [
    "# 🛠️ Project Setup\n",
    "\n",
    "This code block imports the necessary libraries for data preprocessing and modeling in Python. Specifically, it imports **NumPy**, **Pandas**, **Seaborn**, and **Matplotlib** for data manipulation and visualization. Scikit-learn modules such as **LabelEncoder**, **StandardScaler**, **GridSearchCV**, **KNeighborsClassifier**, **cross_val_predict**, **confusion_matrix**, **permutation_importance**, **train_test_split**, and **PCA** are also imported for data preprocessing, model training, and evaluation. The **Counter** module from the collections library is imported for counting the number of occurrences of each item in a list.\n",
    "\n",
    "The code block also uses **os** to print out the file paths for any files located in the input directory. This is useful for confirming that the dataset for the Titanic sinking competition is present and accessible in the directory.\n",
    "\n",
    "Overall, this code block sets up the necessary environment for data preprocessing and modeling using Python and scikit-learn."
   ]
  },
  {
   "cell_type": "code",
   "execution_count": 1,
   "id": "d3783dde",
   "metadata": {
    "_cell_guid": "b1076dfc-b9ad-4769-8c92-a6c4dae69d19",
    "_uuid": "8f2839f25d086af736a60e9eeb907d3b93b6e0e5",
    "execution": {
     "iopub.execute_input": "2023-04-03T22:49:08.773870Z",
     "iopub.status.busy": "2023-04-03T22:49:08.772986Z",
     "iopub.status.idle": "2023-04-03T22:49:10.680423Z",
     "shell.execute_reply": "2023-04-03T22:49:10.678669Z"
    },
    "papermill": {
     "duration": 1.92909,
     "end_time": "2023-04-03T22:49:10.684064",
     "exception": false,
     "start_time": "2023-04-03T22:49:08.754974",
     "status": "completed"
    },
    "tags": []
   },
   "outputs": [
    {
     "name": "stdout",
     "output_type": "stream",
     "text": [
      "/kaggle/input/titanic-leaderboard/titanic-publicleaderboard.csv\n",
      "/kaggle/input/titanic/train.csv\n",
      "/kaggle/input/titanic/test.csv\n",
      "/kaggle/input/titanic/gender_submission.csv\n"
     ]
    }
   ],
   "source": [
    "import numpy as np\n",
    "import pandas as pd\n",
    "\n",
    "# visualization\n",
    "import seaborn as sns\n",
    "import matplotlib.pyplot as plt\n",
    "\n",
    "from sklearn.preprocessing import LabelEncoder\n",
    "from sklearn.preprocessing import StandardScaler\n",
    "from sklearn.model_selection import GridSearchCV\n",
    "from sklearn.neighbors import KNeighborsClassifier\n",
    "\n",
    "from sklearn.model_selection import cross_val_predict\n",
    "from sklearn.metrics import confusion_matrix\n",
    "from sklearn.inspection import permutation_importance\n",
    "from sklearn.model_selection import train_test_split\n",
    "from sklearn.decomposition import PCA\n",
    "\n",
    "from collections import Counter\n",
    "\n",
    "import os\n",
    "for dirname, _, filenames in os.walk('/kaggle/input'):\n",
    "    for filename in filenames:\n",
    "        print(os.path.join(dirname, filename))"
   ]
  },
  {
   "cell_type": "markdown",
   "id": "95e3d42e",
   "metadata": {
    "papermill": {
     "duration": 0.016755,
     "end_time": "2023-04-03T22:49:10.717340",
     "exception": false,
     "start_time": "2023-04-03T22:49:10.700585",
     "status": "completed"
    },
    "tags": []
   },
   "source": [
    "# 💾 Loading Data\n",
    "\n",
    "This code block reads in the training and test data for the Titanic sinking competition from CSV files located in the input directory. It uses **Pandas' read_csv()** function to read in the data and store it as a DataFrame.\n",
    "\n",
    "The *train_df* DataFrame contains the training data, which includes features such as passenger class, age, and sex, as well as the target variable of survival status. The *test_df* DataFrame contains the test data, which includes the same features as the training data, but the target variable of survival status is not included.\n",
    "\n",
    "The last line of code appends the test data to the training data to create a single DataFrame called *data_df*. This is often done in data preprocessing to allow for consistent feature engineering and transformation across the entire dataset."
   ]
  },
  {
   "cell_type": "code",
   "execution_count": 2,
   "id": "76295556",
   "metadata": {
    "execution": {
     "iopub.execute_input": "2023-04-03T22:49:10.753186Z",
     "iopub.status.busy": "2023-04-03T22:49:10.752732Z",
     "iopub.status.idle": "2023-04-03T22:49:10.796475Z",
     "shell.execute_reply": "2023-04-03T22:49:10.794843Z"
    },
    "papermill": {
     "duration": 0.066306,
     "end_time": "2023-04-03T22:49:10.800009",
     "exception": false,
     "start_time": "2023-04-03T22:49:10.733703",
     "status": "completed"
    },
    "tags": []
   },
   "outputs": [],
   "source": [
    "train_df = pd.read_csv(\"../input/titanic/train.csv\")\n",
    "test_df = pd.read_csv(\"../input/titanic/test.csv\")\n",
    "data_df = train_df.append(test_df)"
   ]
  },
  {
   "cell_type": "code",
   "execution_count": 3,
   "id": "0814dfc0",
   "metadata": {
    "execution": {
     "iopub.execute_input": "2023-04-03T22:49:10.836491Z",
     "iopub.status.busy": "2023-04-03T22:49:10.835623Z",
     "iopub.status.idle": "2023-04-03T22:49:10.866381Z",
     "shell.execute_reply": "2023-04-03T22:49:10.865269Z"
    },
    "papermill": {
     "duration": 0.051993,
     "end_time": "2023-04-03T22:49:10.869056",
     "exception": false,
     "start_time": "2023-04-03T22:49:10.817063",
     "status": "completed"
    },
    "tags": []
   },
   "outputs": [
    {
     "data": {
      "text/html": [
       "<div>\n",
       "<style scoped>\n",
       "    .dataframe tbody tr th:only-of-type {\n",
       "        vertical-align: middle;\n",
       "    }\n",
       "\n",
       "    .dataframe tbody tr th {\n",
       "        vertical-align: top;\n",
       "    }\n",
       "\n",
       "    .dataframe thead th {\n",
       "        text-align: right;\n",
       "    }\n",
       "</style>\n",
       "<table border=\"1\" class=\"dataframe\">\n",
       "  <thead>\n",
       "    <tr style=\"text-align: right;\">\n",
       "      <th></th>\n",
       "      <th>PassengerId</th>\n",
       "      <th>Survived</th>\n",
       "      <th>Pclass</th>\n",
       "      <th>Name</th>\n",
       "      <th>Sex</th>\n",
       "      <th>Age</th>\n",
       "      <th>SibSp</th>\n",
       "      <th>Parch</th>\n",
       "      <th>Ticket</th>\n",
       "      <th>Fare</th>\n",
       "      <th>Cabin</th>\n",
       "      <th>Embarked</th>\n",
       "    </tr>\n",
       "  </thead>\n",
       "  <tbody>\n",
       "    <tr>\n",
       "      <th>0</th>\n",
       "      <td>1</td>\n",
       "      <td>0</td>\n",
       "      <td>3</td>\n",
       "      <td>Braund, Mr. Owen Harris</td>\n",
       "      <td>male</td>\n",
       "      <td>22.0</td>\n",
       "      <td>1</td>\n",
       "      <td>0</td>\n",
       "      <td>A/5 21171</td>\n",
       "      <td>7.2500</td>\n",
       "      <td>NaN</td>\n",
       "      <td>S</td>\n",
       "    </tr>\n",
       "    <tr>\n",
       "      <th>1</th>\n",
       "      <td>2</td>\n",
       "      <td>1</td>\n",
       "      <td>1</td>\n",
       "      <td>Cumings, Mrs. John Bradley (Florence Briggs Th...</td>\n",
       "      <td>female</td>\n",
       "      <td>38.0</td>\n",
       "      <td>1</td>\n",
       "      <td>0</td>\n",
       "      <td>PC 17599</td>\n",
       "      <td>71.2833</td>\n",
       "      <td>C85</td>\n",
       "      <td>C</td>\n",
       "    </tr>\n",
       "    <tr>\n",
       "      <th>2</th>\n",
       "      <td>3</td>\n",
       "      <td>1</td>\n",
       "      <td>3</td>\n",
       "      <td>Heikkinen, Miss. Laina</td>\n",
       "      <td>female</td>\n",
       "      <td>26.0</td>\n",
       "      <td>0</td>\n",
       "      <td>0</td>\n",
       "      <td>STON/O2. 3101282</td>\n",
       "      <td>7.9250</td>\n",
       "      <td>NaN</td>\n",
       "      <td>S</td>\n",
       "    </tr>\n",
       "    <tr>\n",
       "      <th>3</th>\n",
       "      <td>4</td>\n",
       "      <td>1</td>\n",
       "      <td>1</td>\n",
       "      <td>Futrelle, Mrs. Jacques Heath (Lily May Peel)</td>\n",
       "      <td>female</td>\n",
       "      <td>35.0</td>\n",
       "      <td>1</td>\n",
       "      <td>0</td>\n",
       "      <td>113803</td>\n",
       "      <td>53.1000</td>\n",
       "      <td>C123</td>\n",
       "      <td>S</td>\n",
       "    </tr>\n",
       "    <tr>\n",
       "      <th>4</th>\n",
       "      <td>5</td>\n",
       "      <td>0</td>\n",
       "      <td>3</td>\n",
       "      <td>Allen, Mr. William Henry</td>\n",
       "      <td>male</td>\n",
       "      <td>35.0</td>\n",
       "      <td>0</td>\n",
       "      <td>0</td>\n",
       "      <td>373450</td>\n",
       "      <td>8.0500</td>\n",
       "      <td>NaN</td>\n",
       "      <td>S</td>\n",
       "    </tr>\n",
       "  </tbody>\n",
       "</table>\n",
       "</div>"
      ],
      "text/plain": [
       "   PassengerId  Survived  Pclass  \\\n",
       "0            1         0       3   \n",
       "1            2         1       1   \n",
       "2            3         1       3   \n",
       "3            4         1       1   \n",
       "4            5         0       3   \n",
       "\n",
       "                                                Name     Sex   Age  SibSp  \\\n",
       "0                            Braund, Mr. Owen Harris    male  22.0      1   \n",
       "1  Cumings, Mrs. John Bradley (Florence Briggs Th...  female  38.0      1   \n",
       "2                             Heikkinen, Miss. Laina  female  26.0      0   \n",
       "3       Futrelle, Mrs. Jacques Heath (Lily May Peel)  female  35.0      1   \n",
       "4                           Allen, Mr. William Henry    male  35.0      0   \n",
       "\n",
       "   Parch            Ticket     Fare Cabin Embarked  \n",
       "0      0         A/5 21171   7.2500   NaN        S  \n",
       "1      0          PC 17599  71.2833   C85        C  \n",
       "2      0  STON/O2. 3101282   7.9250   NaN        S  \n",
       "3      0            113803  53.1000  C123        S  \n",
       "4      0            373450   8.0500   NaN        S  "
      ]
     },
     "execution_count": 3,
     "metadata": {},
     "output_type": "execute_result"
    }
   ],
   "source": [
    "train_df.head()"
   ]
  },
  {
   "cell_type": "code",
   "execution_count": 4,
   "id": "6786cd12",
   "metadata": {
    "execution": {
     "iopub.execute_input": "2023-04-03T22:49:10.904988Z",
     "iopub.status.busy": "2023-04-03T22:49:10.904110Z",
     "iopub.status.idle": "2023-04-03T22:49:10.920598Z",
     "shell.execute_reply": "2023-04-03T22:49:10.919651Z"
    },
    "papermill": {
     "duration": 0.037309,
     "end_time": "2023-04-03T22:49:10.923029",
     "exception": false,
     "start_time": "2023-04-03T22:49:10.885720",
     "status": "completed"
    },
    "tags": []
   },
   "outputs": [
    {
     "data": {
      "text/html": [
       "<div>\n",
       "<style scoped>\n",
       "    .dataframe tbody tr th:only-of-type {\n",
       "        vertical-align: middle;\n",
       "    }\n",
       "\n",
       "    .dataframe tbody tr th {\n",
       "        vertical-align: top;\n",
       "    }\n",
       "\n",
       "    .dataframe thead th {\n",
       "        text-align: right;\n",
       "    }\n",
       "</style>\n",
       "<table border=\"1\" class=\"dataframe\">\n",
       "  <thead>\n",
       "    <tr style=\"text-align: right;\">\n",
       "      <th></th>\n",
       "      <th>PassengerId</th>\n",
       "      <th>Pclass</th>\n",
       "      <th>Name</th>\n",
       "      <th>Sex</th>\n",
       "      <th>Age</th>\n",
       "      <th>SibSp</th>\n",
       "      <th>Parch</th>\n",
       "      <th>Ticket</th>\n",
       "      <th>Fare</th>\n",
       "      <th>Cabin</th>\n",
       "      <th>Embarked</th>\n",
       "    </tr>\n",
       "  </thead>\n",
       "  <tbody>\n",
       "    <tr>\n",
       "      <th>0</th>\n",
       "      <td>892</td>\n",
       "      <td>3</td>\n",
       "      <td>Kelly, Mr. James</td>\n",
       "      <td>male</td>\n",
       "      <td>34.5</td>\n",
       "      <td>0</td>\n",
       "      <td>0</td>\n",
       "      <td>330911</td>\n",
       "      <td>7.8292</td>\n",
       "      <td>NaN</td>\n",
       "      <td>Q</td>\n",
       "    </tr>\n",
       "    <tr>\n",
       "      <th>1</th>\n",
       "      <td>893</td>\n",
       "      <td>3</td>\n",
       "      <td>Wilkes, Mrs. James (Ellen Needs)</td>\n",
       "      <td>female</td>\n",
       "      <td>47.0</td>\n",
       "      <td>1</td>\n",
       "      <td>0</td>\n",
       "      <td>363272</td>\n",
       "      <td>7.0000</td>\n",
       "      <td>NaN</td>\n",
       "      <td>S</td>\n",
       "    </tr>\n",
       "    <tr>\n",
       "      <th>2</th>\n",
       "      <td>894</td>\n",
       "      <td>2</td>\n",
       "      <td>Myles, Mr. Thomas Francis</td>\n",
       "      <td>male</td>\n",
       "      <td>62.0</td>\n",
       "      <td>0</td>\n",
       "      <td>0</td>\n",
       "      <td>240276</td>\n",
       "      <td>9.6875</td>\n",
       "      <td>NaN</td>\n",
       "      <td>Q</td>\n",
       "    </tr>\n",
       "    <tr>\n",
       "      <th>3</th>\n",
       "      <td>895</td>\n",
       "      <td>3</td>\n",
       "      <td>Wirz, Mr. Albert</td>\n",
       "      <td>male</td>\n",
       "      <td>27.0</td>\n",
       "      <td>0</td>\n",
       "      <td>0</td>\n",
       "      <td>315154</td>\n",
       "      <td>8.6625</td>\n",
       "      <td>NaN</td>\n",
       "      <td>S</td>\n",
       "    </tr>\n",
       "    <tr>\n",
       "      <th>4</th>\n",
       "      <td>896</td>\n",
       "      <td>3</td>\n",
       "      <td>Hirvonen, Mrs. Alexander (Helga E Lindqvist)</td>\n",
       "      <td>female</td>\n",
       "      <td>22.0</td>\n",
       "      <td>1</td>\n",
       "      <td>1</td>\n",
       "      <td>3101298</td>\n",
       "      <td>12.2875</td>\n",
       "      <td>NaN</td>\n",
       "      <td>S</td>\n",
       "    </tr>\n",
       "  </tbody>\n",
       "</table>\n",
       "</div>"
      ],
      "text/plain": [
       "   PassengerId  Pclass                                          Name     Sex  \\\n",
       "0          892       3                              Kelly, Mr. James    male   \n",
       "1          893       3              Wilkes, Mrs. James (Ellen Needs)  female   \n",
       "2          894       2                     Myles, Mr. Thomas Francis    male   \n",
       "3          895       3                              Wirz, Mr. Albert    male   \n",
       "4          896       3  Hirvonen, Mrs. Alexander (Helga E Lindqvist)  female   \n",
       "\n",
       "    Age  SibSp  Parch   Ticket     Fare Cabin Embarked  \n",
       "0  34.5      0      0   330911   7.8292   NaN        Q  \n",
       "1  47.0      1      0   363272   7.0000   NaN        S  \n",
       "2  62.0      0      0   240276   9.6875   NaN        Q  \n",
       "3  27.0      0      0   315154   8.6625   NaN        S  \n",
       "4  22.0      1      1  3101298  12.2875   NaN        S  "
      ]
     },
     "execution_count": 4,
     "metadata": {},
     "output_type": "execute_result"
    }
   ],
   "source": [
    "test_df.head()"
   ]
  },
  {
   "cell_type": "code",
   "execution_count": 5,
   "id": "f9146c75",
   "metadata": {
    "execution": {
     "iopub.execute_input": "2023-04-03T22:49:10.960852Z",
     "iopub.status.busy": "2023-04-03T22:49:10.959905Z",
     "iopub.status.idle": "2023-04-03T22:49:10.979196Z",
     "shell.execute_reply": "2023-04-03T22:49:10.977806Z"
    },
    "papermill": {
     "duration": 0.041934,
     "end_time": "2023-04-03T22:49:10.981801",
     "exception": false,
     "start_time": "2023-04-03T22:49:10.939867",
     "status": "completed"
    },
    "tags": []
   },
   "outputs": [
    {
     "data": {
      "text/html": [
       "<div>\n",
       "<style scoped>\n",
       "    .dataframe tbody tr th:only-of-type {\n",
       "        vertical-align: middle;\n",
       "    }\n",
       "\n",
       "    .dataframe tbody tr th {\n",
       "        vertical-align: top;\n",
       "    }\n",
       "\n",
       "    .dataframe thead th {\n",
       "        text-align: right;\n",
       "    }\n",
       "</style>\n",
       "<table border=\"1\" class=\"dataframe\">\n",
       "  <thead>\n",
       "    <tr style=\"text-align: right;\">\n",
       "      <th></th>\n",
       "      <th>PassengerId</th>\n",
       "      <th>Survived</th>\n",
       "      <th>Pclass</th>\n",
       "      <th>Name</th>\n",
       "      <th>Sex</th>\n",
       "      <th>Age</th>\n",
       "      <th>SibSp</th>\n",
       "      <th>Parch</th>\n",
       "      <th>Ticket</th>\n",
       "      <th>Fare</th>\n",
       "      <th>Cabin</th>\n",
       "      <th>Embarked</th>\n",
       "    </tr>\n",
       "  </thead>\n",
       "  <tbody>\n",
       "    <tr>\n",
       "      <th>0</th>\n",
       "      <td>1</td>\n",
       "      <td>0.0</td>\n",
       "      <td>3</td>\n",
       "      <td>Braund, Mr. Owen Harris</td>\n",
       "      <td>male</td>\n",
       "      <td>22.0</td>\n",
       "      <td>1</td>\n",
       "      <td>0</td>\n",
       "      <td>A/5 21171</td>\n",
       "      <td>7.2500</td>\n",
       "      <td>NaN</td>\n",
       "      <td>S</td>\n",
       "    </tr>\n",
       "    <tr>\n",
       "      <th>1</th>\n",
       "      <td>2</td>\n",
       "      <td>1.0</td>\n",
       "      <td>1</td>\n",
       "      <td>Cumings, Mrs. John Bradley (Florence Briggs Th...</td>\n",
       "      <td>female</td>\n",
       "      <td>38.0</td>\n",
       "      <td>1</td>\n",
       "      <td>0</td>\n",
       "      <td>PC 17599</td>\n",
       "      <td>71.2833</td>\n",
       "      <td>C85</td>\n",
       "      <td>C</td>\n",
       "    </tr>\n",
       "    <tr>\n",
       "      <th>2</th>\n",
       "      <td>3</td>\n",
       "      <td>1.0</td>\n",
       "      <td>3</td>\n",
       "      <td>Heikkinen, Miss. Laina</td>\n",
       "      <td>female</td>\n",
       "      <td>26.0</td>\n",
       "      <td>0</td>\n",
       "      <td>0</td>\n",
       "      <td>STON/O2. 3101282</td>\n",
       "      <td>7.9250</td>\n",
       "      <td>NaN</td>\n",
       "      <td>S</td>\n",
       "    </tr>\n",
       "    <tr>\n",
       "      <th>3</th>\n",
       "      <td>4</td>\n",
       "      <td>1.0</td>\n",
       "      <td>1</td>\n",
       "      <td>Futrelle, Mrs. Jacques Heath (Lily May Peel)</td>\n",
       "      <td>female</td>\n",
       "      <td>35.0</td>\n",
       "      <td>1</td>\n",
       "      <td>0</td>\n",
       "      <td>113803</td>\n",
       "      <td>53.1000</td>\n",
       "      <td>C123</td>\n",
       "      <td>S</td>\n",
       "    </tr>\n",
       "    <tr>\n",
       "      <th>4</th>\n",
       "      <td>5</td>\n",
       "      <td>0.0</td>\n",
       "      <td>3</td>\n",
       "      <td>Allen, Mr. William Henry</td>\n",
       "      <td>male</td>\n",
       "      <td>35.0</td>\n",
       "      <td>0</td>\n",
       "      <td>0</td>\n",
       "      <td>373450</td>\n",
       "      <td>8.0500</td>\n",
       "      <td>NaN</td>\n",
       "      <td>S</td>\n",
       "    </tr>\n",
       "  </tbody>\n",
       "</table>\n",
       "</div>"
      ],
      "text/plain": [
       "   PassengerId  Survived  Pclass  \\\n",
       "0            1       0.0       3   \n",
       "1            2       1.0       1   \n",
       "2            3       1.0       3   \n",
       "3            4       1.0       1   \n",
       "4            5       0.0       3   \n",
       "\n",
       "                                                Name     Sex   Age  SibSp  \\\n",
       "0                            Braund, Mr. Owen Harris    male  22.0      1   \n",
       "1  Cumings, Mrs. John Bradley (Florence Briggs Th...  female  38.0      1   \n",
       "2                             Heikkinen, Miss. Laina  female  26.0      0   \n",
       "3       Futrelle, Mrs. Jacques Heath (Lily May Peel)  female  35.0      1   \n",
       "4                           Allen, Mr. William Henry    male  35.0      0   \n",
       "\n",
       "   Parch            Ticket     Fare Cabin Embarked  \n",
       "0      0         A/5 21171   7.2500   NaN        S  \n",
       "1      0          PC 17599  71.2833   C85        C  \n",
       "2      0  STON/O2. 3101282   7.9250   NaN        S  \n",
       "3      0            113803  53.1000  C123        S  \n",
       "4      0            373450   8.0500   NaN        S  "
      ]
     },
     "execution_count": 5,
     "metadata": {},
     "output_type": "execute_result"
    }
   ],
   "source": [
    "data_df.head()"
   ]
  },
  {
   "cell_type": "markdown",
   "id": "91e2fa83",
   "metadata": {
    "papermill": {
     "duration": 0.017069,
     "end_time": "2023-04-03T22:49:11.015820",
     "exception": false,
     "start_time": "2023-04-03T22:49:10.998751",
     "status": "completed"
    },
    "tags": []
   },
   "source": [
    "# ⚙️ Feature Engineering\n",
    "\n",
    "We are directly diving into feature engineering in this notebook as my Titanic's EDA can be found [here](https://www.kaggle.com/code/dreygaen/titanic-eda-and-prediction-0-78229).\n",
    "\n",
    "## Imputing Age\n",
    "\n",
    "This code block performs data preprocessing steps to extract and clean the *Title* feature from the *Name* feature of the data_df DataFrame.\n",
    "\n",
    "First, a new empty column called *Title* is added to the DataFrame using **data_df['Title'] = ''**.\n",
    "\n",
    "Next, a **for loop** is used to iterate through each name string in the *Name* feature of the DataFrame. The **str.extract()** method is then used to extract the title from the name string using a regular expression. The resulting title is stored in the *Title* column of the corresponding row in the DataFrame.\n",
    "\n",
    "The code then replaces rare titles with more common ones using a predefined mapping dictionary. The titles included in the mapping are *'Mlle'*, *'Major'*, *'Col'*, *'Sir'*, *'Don'*, *'Mme'*, *'Jonkheer'*, *'Lady'*, *'Capt'*, *'Countess'*, *'Ms'*, and *'Dona'*.\n",
    "\n",
    "After mapping the titles, the code calculates the median age for each title group and imputes missing age values in the DataFrame based on the title of the corresponding passenger.\n",
    "\n",
    "Finally, the code substitutes the imputed age values back into the original training and test DataFrames using indexing. The *Title* feature is then dropped from the data_df DataFrame using the **drop()** method.\n",
    "\n",
    "Overall, this code block performs an important step in feature engineering by extracting meaningful information from the *Name* feature and using it to impute missing age values in the dataset."
   ]
  },
  {
   "cell_type": "code",
   "execution_count": 6,
   "id": "7f17df8e",
   "metadata": {
    "execution": {
     "iopub.execute_input": "2023-04-03T22:49:11.051761Z",
     "iopub.status.busy": "2023-04-03T22:49:11.051281Z",
     "iopub.status.idle": "2023-04-03T22:49:16.022406Z",
     "shell.execute_reply": "2023-04-03T22:49:16.020841Z"
    },
    "papermill": {
     "duration": 4.99284,
     "end_time": "2023-04-03T22:49:16.025534",
     "exception": false,
     "start_time": "2023-04-03T22:49:11.032694",
     "status": "completed"
    },
    "tags": []
   },
   "outputs": [],
   "source": [
    "data_df['Title'] = ''\n",
    "\n",
    "# Cleaning name and extracting Title\n",
    "for name_string in data_df['Name']:\n",
    "    data_df['Title'] = data_df['Name'].str.extract('([A-Za-z]+)\\.', expand=True)\n",
    "\n",
    "# Replacing rare titles with more common ones\n",
    "mapping = {'Mlle': 'Miss', 'Major': 'Mr', 'Col': 'Mr', 'Sir': 'Mr', 'Don': 'Mr', 'Mme': 'Miss',\n",
    "          'Jonkheer': 'Mr', 'Lady': 'Mrs', 'Capt': 'Mr', 'Countess': 'Mrs', 'Ms': 'Miss', 'Dona': 'Mrs'}\n",
    "\n",
    "data_df.replace({'Title': mapping}, inplace=True)\n",
    "titles = ['Dr', 'Master', 'Miss', 'Mr', 'Mrs', 'Rev']\n",
    "\n",
    "for title in titles:\n",
    "    age_to_impute = data_df.groupby('Title')['Age'].median()[titles.index(title)]\n",
    "    data_df.loc[(data_df['Age'].isnull()) & (data_df['Title'] == title), 'Age'] = age_to_impute\n",
    "    \n",
    "# Substituting Age values in TRAIN_DF and TEST_DF:\n",
    "train_df['Age'] = data_df['Age'][:891]\n",
    "test_df['Age'] = data_df['Age'][891:]\n",
    "\n",
    "# Dropping Title feature\n",
    "data_df.drop('Title', axis = 1, inplace = True)"
   ]
  },
  {
   "cell_type": "code",
   "execution_count": 7,
   "id": "490fbda3",
   "metadata": {
    "execution": {
     "iopub.execute_input": "2023-04-03T22:49:16.062686Z",
     "iopub.status.busy": "2023-04-03T22:49:16.062228Z",
     "iopub.status.idle": "2023-04-03T22:49:16.071979Z",
     "shell.execute_reply": "2023-04-03T22:49:16.070515Z"
    },
    "papermill": {
     "duration": 0.031125,
     "end_time": "2023-04-03T22:49:16.074805",
     "exception": false,
     "start_time": "2023-04-03T22:49:16.043680",
     "status": "completed"
    },
    "tags": []
   },
   "outputs": [
    {
     "data": {
      "text/plain": [
       "0"
      ]
     },
     "execution_count": 7,
     "metadata": {},
     "output_type": "execute_result"
    }
   ],
   "source": [
    "data_df.Age.isna().sum()"
   ]
  },
  {
   "cell_type": "markdown",
   "id": "9c45ac34",
   "metadata": {
    "papermill": {
     "duration": 0.016578,
     "end_time": "2023-04-03T22:49:16.108820",
     "exception": false,
     "start_time": "2023-04-03T22:49:16.092242",
     "status": "completed"
    },
    "tags": []
   },
   "source": [
    "## Family Size\n",
    "\n",
    "This code block calculates the *Family_Size* feature by adding the *Parch* (number of parents or children aboard) and *SibSp* (number of siblings or spouses aboard) features together for each passenger in the data_df DataFrame. The resulting values are stored in a new column called *Family_Size*.\n",
    "\n",
    "The code then substitutes the *Family_Size* values back into the original training and test DataFrames using indexing. This feature could be used to infer information about the passenger's social status or support network aboard the Titanic, which could be useful in predicting survival status."
   ]
  },
  {
   "cell_type": "code",
   "execution_count": 8,
   "id": "1050ed9f",
   "metadata": {
    "execution": {
     "iopub.execute_input": "2023-04-03T22:49:16.145638Z",
     "iopub.status.busy": "2023-04-03T22:49:16.144443Z",
     "iopub.status.idle": "2023-04-03T22:49:16.155412Z",
     "shell.execute_reply": "2023-04-03T22:49:16.154018Z"
    },
    "papermill": {
     "duration": 0.032062,
     "end_time": "2023-04-03T22:49:16.157979",
     "exception": false,
     "start_time": "2023-04-03T22:49:16.125917",
     "status": "completed"
    },
    "tags": []
   },
   "outputs": [],
   "source": [
    "data_df['Family_Size'] = data_df['Parch'] + data_df['SibSp']\n",
    "\n",
    "# Substituting Age values in TRAIN_DF and TEST_DF:\n",
    "train_df['Family_Size'] = data_df['Family_Size'][:891]\n",
    "test_df['Family_Size'] = data_df['Family_Size'][891:]"
   ]
  },
  {
   "cell_type": "code",
   "execution_count": 9,
   "id": "a04fd567",
   "metadata": {
    "execution": {
     "iopub.execute_input": "2023-04-03T22:49:16.194754Z",
     "iopub.status.busy": "2023-04-03T22:49:16.193777Z",
     "iopub.status.idle": "2023-04-03T22:49:16.213448Z",
     "shell.execute_reply": "2023-04-03T22:49:16.212097Z"
    },
    "papermill": {
     "duration": 0.04138,
     "end_time": "2023-04-03T22:49:16.216227",
     "exception": false,
     "start_time": "2023-04-03T22:49:16.174847",
     "status": "completed"
    },
    "tags": []
   },
   "outputs": [
    {
     "data": {
      "text/html": [
       "<div>\n",
       "<style scoped>\n",
       "    .dataframe tbody tr th:only-of-type {\n",
       "        vertical-align: middle;\n",
       "    }\n",
       "\n",
       "    .dataframe tbody tr th {\n",
       "        vertical-align: top;\n",
       "    }\n",
       "\n",
       "    .dataframe thead th {\n",
       "        text-align: right;\n",
       "    }\n",
       "</style>\n",
       "<table border=\"1\" class=\"dataframe\">\n",
       "  <thead>\n",
       "    <tr style=\"text-align: right;\">\n",
       "      <th></th>\n",
       "      <th>PassengerId</th>\n",
       "      <th>Survived</th>\n",
       "      <th>Pclass</th>\n",
       "      <th>Name</th>\n",
       "      <th>Sex</th>\n",
       "      <th>Age</th>\n",
       "      <th>SibSp</th>\n",
       "      <th>Parch</th>\n",
       "      <th>Ticket</th>\n",
       "      <th>Fare</th>\n",
       "      <th>Cabin</th>\n",
       "      <th>Embarked</th>\n",
       "      <th>Family_Size</th>\n",
       "    </tr>\n",
       "  </thead>\n",
       "  <tbody>\n",
       "    <tr>\n",
       "      <th>0</th>\n",
       "      <td>1</td>\n",
       "      <td>0.0</td>\n",
       "      <td>3</td>\n",
       "      <td>Braund, Mr. Owen Harris</td>\n",
       "      <td>male</td>\n",
       "      <td>22.0</td>\n",
       "      <td>1</td>\n",
       "      <td>0</td>\n",
       "      <td>A/5 21171</td>\n",
       "      <td>7.2500</td>\n",
       "      <td>NaN</td>\n",
       "      <td>S</td>\n",
       "      <td>1</td>\n",
       "    </tr>\n",
       "    <tr>\n",
       "      <th>1</th>\n",
       "      <td>2</td>\n",
       "      <td>1.0</td>\n",
       "      <td>1</td>\n",
       "      <td>Cumings, Mrs. John Bradley (Florence Briggs Th...</td>\n",
       "      <td>female</td>\n",
       "      <td>38.0</td>\n",
       "      <td>1</td>\n",
       "      <td>0</td>\n",
       "      <td>PC 17599</td>\n",
       "      <td>71.2833</td>\n",
       "      <td>C85</td>\n",
       "      <td>C</td>\n",
       "      <td>1</td>\n",
       "    </tr>\n",
       "    <tr>\n",
       "      <th>2</th>\n",
       "      <td>3</td>\n",
       "      <td>1.0</td>\n",
       "      <td>3</td>\n",
       "      <td>Heikkinen, Miss. Laina</td>\n",
       "      <td>female</td>\n",
       "      <td>26.0</td>\n",
       "      <td>0</td>\n",
       "      <td>0</td>\n",
       "      <td>STON/O2. 3101282</td>\n",
       "      <td>7.9250</td>\n",
       "      <td>NaN</td>\n",
       "      <td>S</td>\n",
       "      <td>0</td>\n",
       "    </tr>\n",
       "    <tr>\n",
       "      <th>3</th>\n",
       "      <td>4</td>\n",
       "      <td>1.0</td>\n",
       "      <td>1</td>\n",
       "      <td>Futrelle, Mrs. Jacques Heath (Lily May Peel)</td>\n",
       "      <td>female</td>\n",
       "      <td>35.0</td>\n",
       "      <td>1</td>\n",
       "      <td>0</td>\n",
       "      <td>113803</td>\n",
       "      <td>53.1000</td>\n",
       "      <td>C123</td>\n",
       "      <td>S</td>\n",
       "      <td>1</td>\n",
       "    </tr>\n",
       "    <tr>\n",
       "      <th>4</th>\n",
       "      <td>5</td>\n",
       "      <td>0.0</td>\n",
       "      <td>3</td>\n",
       "      <td>Allen, Mr. William Henry</td>\n",
       "      <td>male</td>\n",
       "      <td>35.0</td>\n",
       "      <td>0</td>\n",
       "      <td>0</td>\n",
       "      <td>373450</td>\n",
       "      <td>8.0500</td>\n",
       "      <td>NaN</td>\n",
       "      <td>S</td>\n",
       "      <td>0</td>\n",
       "    </tr>\n",
       "  </tbody>\n",
       "</table>\n",
       "</div>"
      ],
      "text/plain": [
       "   PassengerId  Survived  Pclass  \\\n",
       "0            1       0.0       3   \n",
       "1            2       1.0       1   \n",
       "2            3       1.0       3   \n",
       "3            4       1.0       1   \n",
       "4            5       0.0       3   \n",
       "\n",
       "                                                Name     Sex   Age  SibSp  \\\n",
       "0                            Braund, Mr. Owen Harris    male  22.0      1   \n",
       "1  Cumings, Mrs. John Bradley (Florence Briggs Th...  female  38.0      1   \n",
       "2                             Heikkinen, Miss. Laina  female  26.0      0   \n",
       "3       Futrelle, Mrs. Jacques Heath (Lily May Peel)  female  35.0      1   \n",
       "4                           Allen, Mr. William Henry    male  35.0      0   \n",
       "\n",
       "   Parch            Ticket     Fare Cabin Embarked  Family_Size  \n",
       "0      0         A/5 21171   7.2500   NaN        S            1  \n",
       "1      0          PC 17599  71.2833   C85        C            1  \n",
       "2      0  STON/O2. 3101282   7.9250   NaN        S            0  \n",
       "3      0            113803  53.1000  C123        S            1  \n",
       "4      0            373450   8.0500   NaN        S            0  "
      ]
     },
     "execution_count": 9,
     "metadata": {},
     "output_type": "execute_result"
    }
   ],
   "source": [
    "data_df.head()"
   ]
  },
  {
   "cell_type": "markdown",
   "id": "6d740cef",
   "metadata": {
    "papermill": {
     "duration": 0.01899,
     "end_time": "2023-04-03T22:49:16.252346",
     "exception": false,
     "start_time": "2023-04-03T22:49:16.233356",
     "status": "completed"
    },
    "tags": []
   },
   "source": [
    "## Family Survival Status\n",
    "\n",
    "This block of code creates a new feature called *Family_Survival* that attempts to infer the survival status of a passenger's family based on their shared ticket number, last name, and fare. The code first creates a new column called *Lastname* by extracting the last name from the *Name* column using the lambda function and the **split()** method.\n",
    "\n",
    "The missing *Fare* values are then replaced with the mean fare value using the **fillna()** method. The default survival value is set to **0.5**, which is used to initialize the *Family_Survival* column.\n",
    "\n",
    "Next, the code iterates over each family group (identified by shared *Last_Name* and *Fare* values) in the *data_df* DataFrame using the **groupby()** method. For each family group, the code checks whether any family member has survived or perished. If at least one family member has survived, then the *Family_Survival* value for all family members in the group is set to **1**. If all family members have perished, then the *Family_Survival* value is set to **0** for all members. If the group only has one member, the *Family_Survival* value remains at its default value of **0.5**.\n",
    "\n",
    "The last line of code prints the number of passengers for which the *Family_Survival* value is **not 0.5**, indicating that family survival information is available for those passengers."
   ]
  },
  {
   "cell_type": "code",
   "execution_count": 10,
   "id": "731de71e",
   "metadata": {
    "execution": {
     "iopub.execute_input": "2023-04-03T22:49:16.299368Z",
     "iopub.status.busy": "2023-04-03T22:49:16.298212Z",
     "iopub.status.idle": "2023-04-03T22:49:17.278080Z",
     "shell.execute_reply": "2023-04-03T22:49:17.276559Z"
    },
    "papermill": {
     "duration": 1.006871,
     "end_time": "2023-04-03T22:49:17.280891",
     "exception": false,
     "start_time": "2023-04-03T22:49:16.274020",
     "status": "completed"
    },
    "tags": []
   },
   "outputs": [
    {
     "name": "stdout",
     "output_type": "stream",
     "text": [
      "Number of passengers with family survival information: 420\n"
     ]
    }
   ],
   "source": [
    "data_df['Lastname'] = data_df['Name'].apply(lambda x: str.split(x, \",\")[0])\n",
    "data_df['Fare'].fillna(data_df['Fare'].mean(), inplace=True)\n",
    "\n",
    "DEFAULT_SURVIVAL_VALUE = 0.5\n",
    "data_df['Family_Survival'] = DEFAULT_SURVIVAL_VALUE\n",
    "\n",
    "for grp, grp_df in data_df[['Survived','Name', 'Lastname', 'Fare', 'Ticket', 'PassengerId',\n",
    "                           'SibSp', 'Parch', 'Age', 'Cabin']].groupby(['Lastname', 'Fare']):\n",
    "    \n",
    "    if (len(grp_df) != 1):\n",
    "        # A Family group is found.\n",
    "        for ind, row in grp_df.iterrows():\n",
    "            smax = grp_df.drop(ind)['Survived'].max()\n",
    "            smin = grp_df.drop(ind)['Survived'].min()\n",
    "            passID = row['PassengerId']\n",
    "            if (smax == 1.0):\n",
    "                data_df.loc[data_df['PassengerId'] == passID, 'Family_Survival'] = 1\n",
    "            elif (smin==0.0):\n",
    "                data_df.loc[data_df['PassengerId'] == passID, 'Family_Survival'] = 0\n",
    "\n",
    "print(\"Number of passengers with family survival information:\", \n",
    "      data_df.loc[data_df['Family_Survival']!=0.5].shape[0])"
   ]
  },
  {
   "cell_type": "markdown",
   "id": "0bfa3a3e",
   "metadata": {
    "papermill": {
     "duration": 0.017145,
     "end_time": "2023-04-03T22:49:17.316120",
     "exception": false,
     "start_time": "2023-04-03T22:49:17.298975",
     "status": "completed"
    },
    "tags": []
   },
   "source": [
    "This block of code is aimed at imputing missing information about the survival of family members and groups. The code creates a new feature called *Family_Survival* and initially sets its value to *DEFAULT_SURVIVAL_VALUE* which is equal to **0.5**. It then uses the passenger's last name, fare, and ticket number to identify family groups. For each family group, it checks if there is any missing survival information (either **0** or **0.5**) and if so, it imputes this information based on the survival of other family members in the group. It then repeats this process for groups of passengers with the same ticket number. Finally, it updates the *Family_Survival* feature for both the training and test datasets based on the information found in the *data_df* dataframe. The code also prints out the number of passengers for which family/group survival information was found."
   ]
  },
  {
   "cell_type": "code",
   "execution_count": 11,
   "id": "f709ce97",
   "metadata": {
    "execution": {
     "iopub.execute_input": "2023-04-03T22:49:17.355176Z",
     "iopub.status.busy": "2023-04-03T22:49:17.354712Z",
     "iopub.status.idle": "2023-04-03T22:49:18.041904Z",
     "shell.execute_reply": "2023-04-03T22:49:18.040559Z"
    },
    "papermill": {
     "duration": 0.711861,
     "end_time": "2023-04-03T22:49:18.046005",
     "exception": false,
     "start_time": "2023-04-03T22:49:17.334144",
     "status": "completed"
    },
    "tags": []
   },
   "outputs": [
    {
     "name": "stdout",
     "output_type": "stream",
     "text": [
      "Number of passenger with family/group survival information: 546\n"
     ]
    }
   ],
   "source": [
    "for _, grp_df in data_df.groupby('Ticket'):\n",
    "    if (len(grp_df) != 1):\n",
    "        for ind, row in grp_df.iterrows():\n",
    "            if (row['Family_Survival'] == 0) | (row['Family_Survival']== 0.5):\n",
    "                smax = grp_df.drop(ind)['Survived'].max()\n",
    "                smin = grp_df.drop(ind)['Survived'].min()\n",
    "                passID = row['PassengerId']\n",
    "                if (smax == 1.0):\n",
    "                    data_df.loc[data_df['PassengerId'] == passID, 'Family_Survival'] = 1\n",
    "                elif (smin==0.0):\n",
    "                    data_df.loc[data_df['PassengerId'] == passID, 'Family_Survival'] = 0\n",
    "                        \n",
    "print(\"Number of passenger with family/group survival information: \" \n",
    "      +str(data_df[data_df['Family_Survival']!=0.5].shape[0]))\n",
    "\n",
    "# # Family_Survival in TRAIN_DF and TEST_DF:\n",
    "train_df['Family_Survival'] = data_df['Family_Survival'][:891]\n",
    "test_df['Family_Survival'] = data_df['Family_Survival'][891:]"
   ]
  },
  {
   "cell_type": "code",
   "execution_count": 12,
   "id": "72822f0a",
   "metadata": {
    "execution": {
     "iopub.execute_input": "2023-04-03T22:49:18.084140Z",
     "iopub.status.busy": "2023-04-03T22:49:18.083668Z",
     "iopub.status.idle": "2023-04-03T22:49:18.104896Z",
     "shell.execute_reply": "2023-04-03T22:49:18.103664Z"
    },
    "papermill": {
     "duration": 0.042998,
     "end_time": "2023-04-03T22:49:18.107510",
     "exception": false,
     "start_time": "2023-04-03T22:49:18.064512",
     "status": "completed"
    },
    "tags": []
   },
   "outputs": [
    {
     "data": {
      "text/html": [
       "<div>\n",
       "<style scoped>\n",
       "    .dataframe tbody tr th:only-of-type {\n",
       "        vertical-align: middle;\n",
       "    }\n",
       "\n",
       "    .dataframe tbody tr th {\n",
       "        vertical-align: top;\n",
       "    }\n",
       "\n",
       "    .dataframe thead th {\n",
       "        text-align: right;\n",
       "    }\n",
       "</style>\n",
       "<table border=\"1\" class=\"dataframe\">\n",
       "  <thead>\n",
       "    <tr style=\"text-align: right;\">\n",
       "      <th></th>\n",
       "      <th>PassengerId</th>\n",
       "      <th>Survived</th>\n",
       "      <th>Pclass</th>\n",
       "      <th>Name</th>\n",
       "      <th>Sex</th>\n",
       "      <th>Age</th>\n",
       "      <th>SibSp</th>\n",
       "      <th>Parch</th>\n",
       "      <th>Ticket</th>\n",
       "      <th>Fare</th>\n",
       "      <th>Cabin</th>\n",
       "      <th>Embarked</th>\n",
       "      <th>Family_Size</th>\n",
       "      <th>Lastname</th>\n",
       "      <th>Family_Survival</th>\n",
       "    </tr>\n",
       "  </thead>\n",
       "  <tbody>\n",
       "    <tr>\n",
       "      <th>0</th>\n",
       "      <td>1</td>\n",
       "      <td>0.0</td>\n",
       "      <td>3</td>\n",
       "      <td>Braund, Mr. Owen Harris</td>\n",
       "      <td>male</td>\n",
       "      <td>22.0</td>\n",
       "      <td>1</td>\n",
       "      <td>0</td>\n",
       "      <td>A/5 21171</td>\n",
       "      <td>7.2500</td>\n",
       "      <td>NaN</td>\n",
       "      <td>S</td>\n",
       "      <td>1</td>\n",
       "      <td>Braund</td>\n",
       "      <td>0.5</td>\n",
       "    </tr>\n",
       "    <tr>\n",
       "      <th>1</th>\n",
       "      <td>2</td>\n",
       "      <td>1.0</td>\n",
       "      <td>1</td>\n",
       "      <td>Cumings, Mrs. John Bradley (Florence Briggs Th...</td>\n",
       "      <td>female</td>\n",
       "      <td>38.0</td>\n",
       "      <td>1</td>\n",
       "      <td>0</td>\n",
       "      <td>PC 17599</td>\n",
       "      <td>71.2833</td>\n",
       "      <td>C85</td>\n",
       "      <td>C</td>\n",
       "      <td>1</td>\n",
       "      <td>Cumings</td>\n",
       "      <td>0.5</td>\n",
       "    </tr>\n",
       "    <tr>\n",
       "      <th>2</th>\n",
       "      <td>3</td>\n",
       "      <td>1.0</td>\n",
       "      <td>3</td>\n",
       "      <td>Heikkinen, Miss. Laina</td>\n",
       "      <td>female</td>\n",
       "      <td>26.0</td>\n",
       "      <td>0</td>\n",
       "      <td>0</td>\n",
       "      <td>STON/O2. 3101282</td>\n",
       "      <td>7.9250</td>\n",
       "      <td>NaN</td>\n",
       "      <td>S</td>\n",
       "      <td>0</td>\n",
       "      <td>Heikkinen</td>\n",
       "      <td>0.5</td>\n",
       "    </tr>\n",
       "    <tr>\n",
       "      <th>3</th>\n",
       "      <td>4</td>\n",
       "      <td>1.0</td>\n",
       "      <td>1</td>\n",
       "      <td>Futrelle, Mrs. Jacques Heath (Lily May Peel)</td>\n",
       "      <td>female</td>\n",
       "      <td>35.0</td>\n",
       "      <td>1</td>\n",
       "      <td>0</td>\n",
       "      <td>113803</td>\n",
       "      <td>53.1000</td>\n",
       "      <td>C123</td>\n",
       "      <td>S</td>\n",
       "      <td>1</td>\n",
       "      <td>Futrelle</td>\n",
       "      <td>0.0</td>\n",
       "    </tr>\n",
       "    <tr>\n",
       "      <th>4</th>\n",
       "      <td>5</td>\n",
       "      <td>0.0</td>\n",
       "      <td>3</td>\n",
       "      <td>Allen, Mr. William Henry</td>\n",
       "      <td>male</td>\n",
       "      <td>35.0</td>\n",
       "      <td>0</td>\n",
       "      <td>0</td>\n",
       "      <td>373450</td>\n",
       "      <td>8.0500</td>\n",
       "      <td>NaN</td>\n",
       "      <td>S</td>\n",
       "      <td>0</td>\n",
       "      <td>Allen</td>\n",
       "      <td>0.5</td>\n",
       "    </tr>\n",
       "  </tbody>\n",
       "</table>\n",
       "</div>"
      ],
      "text/plain": [
       "   PassengerId  Survived  Pclass  \\\n",
       "0            1       0.0       3   \n",
       "1            2       1.0       1   \n",
       "2            3       1.0       3   \n",
       "3            4       1.0       1   \n",
       "4            5       0.0       3   \n",
       "\n",
       "                                                Name     Sex   Age  SibSp  \\\n",
       "0                            Braund, Mr. Owen Harris    male  22.0      1   \n",
       "1  Cumings, Mrs. John Bradley (Florence Briggs Th...  female  38.0      1   \n",
       "2                             Heikkinen, Miss. Laina  female  26.0      0   \n",
       "3       Futrelle, Mrs. Jacques Heath (Lily May Peel)  female  35.0      1   \n",
       "4                           Allen, Mr. William Henry    male  35.0      0   \n",
       "\n",
       "   Parch            Ticket     Fare Cabin Embarked  Family_Size   Lastname  \\\n",
       "0      0         A/5 21171   7.2500   NaN        S            1     Braund   \n",
       "1      0          PC 17599  71.2833   C85        C            1    Cumings   \n",
       "2      0  STON/O2. 3101282   7.9250   NaN        S            0  Heikkinen   \n",
       "3      0            113803  53.1000  C123        S            1   Futrelle   \n",
       "4      0            373450   8.0500   NaN        S            0      Allen   \n",
       "\n",
       "   Family_Survival  \n",
       "0              0.5  \n",
       "1              0.5  \n",
       "2              0.5  \n",
       "3              0.0  \n",
       "4              0.5  "
      ]
     },
     "execution_count": 12,
     "metadata": {},
     "output_type": "execute_result"
    }
   ],
   "source": [
    "data_df.head()"
   ]
  },
  {
   "cell_type": "markdown",
   "id": "084714dc",
   "metadata": {
    "papermill": {
     "duration": 0.017354,
     "end_time": "2023-04-03T22:49:18.143255",
     "exception": false,
     "start_time": "2023-04-03T22:49:18.125901",
     "status": "completed"
    },
    "tags": []
   },
   "source": [
    "## Fare\n",
    "\n",
    "The code above prepares the *Fare* feature by filling missing values with the **median**, binning the feature using **pd.qcut**, and encoding the bin labels with a **LabelEncoder**. It then assigns the bin codes to the corresponding rows in the *train_df* and *test_df* dataframes, and drops the original *Fare* column from both dataframes.\n",
    "\n",
    "The **pd.qcut** function divides the range of values in the Fare column into **5 bins** with equal number of observations. This is done to reduce the noise in the data and to capture the patterns in the data that may not be apparent when looking at the raw values.\n",
    "\n",
    "The **LabelEncoder** is used to transform the categorical bin labels into numerical values that can be used as input for the machine learning models. The encoded values range from **0** to **4**, corresponding to the **5 bins** generated by **pd.qcut**."
   ]
  },
  {
   "cell_type": "code",
   "execution_count": 13,
   "id": "7ba301ef",
   "metadata": {
    "execution": {
     "iopub.execute_input": "2023-04-03T22:49:18.182166Z",
     "iopub.status.busy": "2023-04-03T22:49:18.181697Z",
     "iopub.status.idle": "2023-04-03T22:49:18.211125Z",
     "shell.execute_reply": "2023-04-03T22:49:18.209676Z"
    },
    "papermill": {
     "duration": 0.053448,
     "end_time": "2023-04-03T22:49:18.214547",
     "exception": false,
     "start_time": "2023-04-03T22:49:18.161099",
     "status": "completed"
    },
    "tags": []
   },
   "outputs": [],
   "source": [
    "data_df['Fare'].fillna(data_df['Fare'].median(), inplace = True)\n",
    "\n",
    "# Making Bins\n",
    "data_df['FareBin'] = pd.qcut(data_df['Fare'], 5)\n",
    "\n",
    "label = LabelEncoder()\n",
    "data_df['FareBin_Code'] = label.fit_transform(data_df['FareBin'])\n",
    "\n",
    "train_df['FareBin_Code'] = data_df['FareBin_Code'][:891]\n",
    "test_df['FareBin_Code'] = data_df['FareBin_Code'][891:]\n",
    "\n",
    "train_df.drop(columns='Fare', inplace=True)\n",
    "test_df.drop(columns='Fare', inplace=True)"
   ]
  },
  {
   "cell_type": "code",
   "execution_count": 14,
   "id": "62f5bf13",
   "metadata": {
    "execution": {
     "iopub.execute_input": "2023-04-03T22:49:18.253379Z",
     "iopub.status.busy": "2023-04-03T22:49:18.252900Z",
     "iopub.status.idle": "2023-04-03T22:49:18.278221Z",
     "shell.execute_reply": "2023-04-03T22:49:18.276751Z"
    },
    "papermill": {
     "duration": 0.048316,
     "end_time": "2023-04-03T22:49:18.281242",
     "exception": false,
     "start_time": "2023-04-03T22:49:18.232926",
     "status": "completed"
    },
    "tags": []
   },
   "outputs": [
    {
     "data": {
      "text/html": [
       "<div>\n",
       "<style scoped>\n",
       "    .dataframe tbody tr th:only-of-type {\n",
       "        vertical-align: middle;\n",
       "    }\n",
       "\n",
       "    .dataframe tbody tr th {\n",
       "        vertical-align: top;\n",
       "    }\n",
       "\n",
       "    .dataframe thead th {\n",
       "        text-align: right;\n",
       "    }\n",
       "</style>\n",
       "<table border=\"1\" class=\"dataframe\">\n",
       "  <thead>\n",
       "    <tr style=\"text-align: right;\">\n",
       "      <th></th>\n",
       "      <th>PassengerId</th>\n",
       "      <th>Survived</th>\n",
       "      <th>Pclass</th>\n",
       "      <th>Name</th>\n",
       "      <th>Sex</th>\n",
       "      <th>Age</th>\n",
       "      <th>SibSp</th>\n",
       "      <th>Parch</th>\n",
       "      <th>Ticket</th>\n",
       "      <th>Fare</th>\n",
       "      <th>Cabin</th>\n",
       "      <th>Embarked</th>\n",
       "      <th>Family_Size</th>\n",
       "      <th>Lastname</th>\n",
       "      <th>Family_Survival</th>\n",
       "      <th>FareBin</th>\n",
       "      <th>FareBin_Code</th>\n",
       "    </tr>\n",
       "  </thead>\n",
       "  <tbody>\n",
       "    <tr>\n",
       "      <th>0</th>\n",
       "      <td>1</td>\n",
       "      <td>0.0</td>\n",
       "      <td>3</td>\n",
       "      <td>Braund, Mr. Owen Harris</td>\n",
       "      <td>male</td>\n",
       "      <td>22.0</td>\n",
       "      <td>1</td>\n",
       "      <td>0</td>\n",
       "      <td>A/5 21171</td>\n",
       "      <td>7.2500</td>\n",
       "      <td>NaN</td>\n",
       "      <td>S</td>\n",
       "      <td>1</td>\n",
       "      <td>Braund</td>\n",
       "      <td>0.5</td>\n",
       "      <td>(-0.001, 7.854]</td>\n",
       "      <td>0</td>\n",
       "    </tr>\n",
       "    <tr>\n",
       "      <th>1</th>\n",
       "      <td>2</td>\n",
       "      <td>1.0</td>\n",
       "      <td>1</td>\n",
       "      <td>Cumings, Mrs. John Bradley (Florence Briggs Th...</td>\n",
       "      <td>female</td>\n",
       "      <td>38.0</td>\n",
       "      <td>1</td>\n",
       "      <td>0</td>\n",
       "      <td>PC 17599</td>\n",
       "      <td>71.2833</td>\n",
       "      <td>C85</td>\n",
       "      <td>C</td>\n",
       "      <td>1</td>\n",
       "      <td>Cumings</td>\n",
       "      <td>0.5</td>\n",
       "      <td>(41.579, 512.329]</td>\n",
       "      <td>4</td>\n",
       "    </tr>\n",
       "    <tr>\n",
       "      <th>2</th>\n",
       "      <td>3</td>\n",
       "      <td>1.0</td>\n",
       "      <td>3</td>\n",
       "      <td>Heikkinen, Miss. Laina</td>\n",
       "      <td>female</td>\n",
       "      <td>26.0</td>\n",
       "      <td>0</td>\n",
       "      <td>0</td>\n",
       "      <td>STON/O2. 3101282</td>\n",
       "      <td>7.9250</td>\n",
       "      <td>NaN</td>\n",
       "      <td>S</td>\n",
       "      <td>0</td>\n",
       "      <td>Heikkinen</td>\n",
       "      <td>0.5</td>\n",
       "      <td>(7.854, 10.5]</td>\n",
       "      <td>1</td>\n",
       "    </tr>\n",
       "    <tr>\n",
       "      <th>3</th>\n",
       "      <td>4</td>\n",
       "      <td>1.0</td>\n",
       "      <td>1</td>\n",
       "      <td>Futrelle, Mrs. Jacques Heath (Lily May Peel)</td>\n",
       "      <td>female</td>\n",
       "      <td>35.0</td>\n",
       "      <td>1</td>\n",
       "      <td>0</td>\n",
       "      <td>113803</td>\n",
       "      <td>53.1000</td>\n",
       "      <td>C123</td>\n",
       "      <td>S</td>\n",
       "      <td>1</td>\n",
       "      <td>Futrelle</td>\n",
       "      <td>0.0</td>\n",
       "      <td>(41.579, 512.329]</td>\n",
       "      <td>4</td>\n",
       "    </tr>\n",
       "    <tr>\n",
       "      <th>4</th>\n",
       "      <td>5</td>\n",
       "      <td>0.0</td>\n",
       "      <td>3</td>\n",
       "      <td>Allen, Mr. William Henry</td>\n",
       "      <td>male</td>\n",
       "      <td>35.0</td>\n",
       "      <td>0</td>\n",
       "      <td>0</td>\n",
       "      <td>373450</td>\n",
       "      <td>8.0500</td>\n",
       "      <td>NaN</td>\n",
       "      <td>S</td>\n",
       "      <td>0</td>\n",
       "      <td>Allen</td>\n",
       "      <td>0.5</td>\n",
       "      <td>(7.854, 10.5]</td>\n",
       "      <td>1</td>\n",
       "    </tr>\n",
       "  </tbody>\n",
       "</table>\n",
       "</div>"
      ],
      "text/plain": [
       "   PassengerId  Survived  Pclass  \\\n",
       "0            1       0.0       3   \n",
       "1            2       1.0       1   \n",
       "2            3       1.0       3   \n",
       "3            4       1.0       1   \n",
       "4            5       0.0       3   \n",
       "\n",
       "                                                Name     Sex   Age  SibSp  \\\n",
       "0                            Braund, Mr. Owen Harris    male  22.0      1   \n",
       "1  Cumings, Mrs. John Bradley (Florence Briggs Th...  female  38.0      1   \n",
       "2                             Heikkinen, Miss. Laina  female  26.0      0   \n",
       "3       Futrelle, Mrs. Jacques Heath (Lily May Peel)  female  35.0      1   \n",
       "4                           Allen, Mr. William Henry    male  35.0      0   \n",
       "\n",
       "   Parch            Ticket     Fare Cabin Embarked  Family_Size   Lastname  \\\n",
       "0      0         A/5 21171   7.2500   NaN        S            1     Braund   \n",
       "1      0          PC 17599  71.2833   C85        C            1    Cumings   \n",
       "2      0  STON/O2. 3101282   7.9250   NaN        S            0  Heikkinen   \n",
       "3      0            113803  53.1000  C123        S            1   Futrelle   \n",
       "4      0            373450   8.0500   NaN        S            0      Allen   \n",
       "\n",
       "   Family_Survival            FareBin  FareBin_Code  \n",
       "0              0.5    (-0.001, 7.854]             0  \n",
       "1              0.5  (41.579, 512.329]             4  \n",
       "2              0.5      (7.854, 10.5]             1  \n",
       "3              0.0  (41.579, 512.329]             4  \n",
       "4              0.5      (7.854, 10.5]             1  "
      ]
     },
     "execution_count": 14,
     "metadata": {},
     "output_type": "execute_result"
    }
   ],
   "source": [
    "data_df.head()"
   ]
  },
  {
   "cell_type": "markdown",
   "id": "e5442588",
   "metadata": {
    "papermill": {
     "duration": 0.017944,
     "end_time": "2023-04-03T22:49:18.318830",
     "exception": false,
     "start_time": "2023-04-03T22:49:18.300886",
     "status": "completed"
    },
    "tags": []
   },
   "source": [
    "## Age\n",
    "\n",
    "Here, we are performing a binning of the *Age* feature into **4 bins** using the qcut method of Pandas, and then labeling the bins using **LabelEncoder**. The resulting *AgeBin_Code* column is then added to the *data_df* DataFrame. Finally, the *AgeBin_Code* column is extracted for the training and testing datasets, and the original *Age* column is dropped from both."
   ]
  },
  {
   "cell_type": "code",
   "execution_count": 15,
   "id": "2637fcc9",
   "metadata": {
    "execution": {
     "iopub.execute_input": "2023-04-03T22:49:18.360430Z",
     "iopub.status.busy": "2023-04-03T22:49:18.358821Z",
     "iopub.status.idle": "2023-04-03T22:49:18.384577Z",
     "shell.execute_reply": "2023-04-03T22:49:18.383423Z"
    },
    "papermill": {
     "duration": 0.050827,
     "end_time": "2023-04-03T22:49:18.388049",
     "exception": false,
     "start_time": "2023-04-03T22:49:18.337222",
     "status": "completed"
    },
    "tags": []
   },
   "outputs": [],
   "source": [
    "data_df['AgeBin'] = pd.qcut(data_df['Age'], 4)\n",
    "\n",
    "label = LabelEncoder()\n",
    "data_df['AgeBin_Code'] = label.fit_transform(data_df['AgeBin'])\n",
    "\n",
    "train_df['AgeBin_Code'] = data_df['AgeBin_Code'][:891]\n",
    "test_df['AgeBin_Code'] = data_df['AgeBin_Code'][891:]\n",
    "\n",
    "train_df.drop(columns='Age', inplace=True)\n",
    "test_df.drop(columns='Age', inplace=True)"
   ]
  },
  {
   "cell_type": "code",
   "execution_count": 16,
   "id": "857338ea",
   "metadata": {
    "execution": {
     "iopub.execute_input": "2023-04-03T22:49:18.449012Z",
     "iopub.status.busy": "2023-04-03T22:49:18.448122Z",
     "iopub.status.idle": "2023-04-03T22:49:18.481307Z",
     "shell.execute_reply": "2023-04-03T22:49:18.479734Z"
    },
    "papermill": {
     "duration": 0.067032,
     "end_time": "2023-04-03T22:49:18.484570",
     "exception": false,
     "start_time": "2023-04-03T22:49:18.417538",
     "status": "completed"
    },
    "tags": []
   },
   "outputs": [
    {
     "data": {
      "text/html": [
       "<div>\n",
       "<style scoped>\n",
       "    .dataframe tbody tr th:only-of-type {\n",
       "        vertical-align: middle;\n",
       "    }\n",
       "\n",
       "    .dataframe tbody tr th {\n",
       "        vertical-align: top;\n",
       "    }\n",
       "\n",
       "    .dataframe thead th {\n",
       "        text-align: right;\n",
       "    }\n",
       "</style>\n",
       "<table border=\"1\" class=\"dataframe\">\n",
       "  <thead>\n",
       "    <tr style=\"text-align: right;\">\n",
       "      <th></th>\n",
       "      <th>PassengerId</th>\n",
       "      <th>Survived</th>\n",
       "      <th>Pclass</th>\n",
       "      <th>Name</th>\n",
       "      <th>Sex</th>\n",
       "      <th>Age</th>\n",
       "      <th>SibSp</th>\n",
       "      <th>Parch</th>\n",
       "      <th>Ticket</th>\n",
       "      <th>Fare</th>\n",
       "      <th>Cabin</th>\n",
       "      <th>Embarked</th>\n",
       "      <th>Family_Size</th>\n",
       "      <th>Lastname</th>\n",
       "      <th>Family_Survival</th>\n",
       "      <th>FareBin</th>\n",
       "      <th>FareBin_Code</th>\n",
       "      <th>AgeBin</th>\n",
       "      <th>AgeBin_Code</th>\n",
       "    </tr>\n",
       "  </thead>\n",
       "  <tbody>\n",
       "    <tr>\n",
       "      <th>0</th>\n",
       "      <td>1</td>\n",
       "      <td>0.0</td>\n",
       "      <td>3</td>\n",
       "      <td>Braund, Mr. Owen Harris</td>\n",
       "      <td>male</td>\n",
       "      <td>22.0</td>\n",
       "      <td>1</td>\n",
       "      <td>0</td>\n",
       "      <td>A/5 21171</td>\n",
       "      <td>7.2500</td>\n",
       "      <td>NaN</td>\n",
       "      <td>S</td>\n",
       "      <td>1</td>\n",
       "      <td>Braund</td>\n",
       "      <td>0.5</td>\n",
       "      <td>(-0.001, 7.854]</td>\n",
       "      <td>0</td>\n",
       "      <td>(0.169, 22.0]</td>\n",
       "      <td>0</td>\n",
       "    </tr>\n",
       "    <tr>\n",
       "      <th>1</th>\n",
       "      <td>2</td>\n",
       "      <td>1.0</td>\n",
       "      <td>1</td>\n",
       "      <td>Cumings, Mrs. John Bradley (Florence Briggs Th...</td>\n",
       "      <td>female</td>\n",
       "      <td>38.0</td>\n",
       "      <td>1</td>\n",
       "      <td>0</td>\n",
       "      <td>PC 17599</td>\n",
       "      <td>71.2833</td>\n",
       "      <td>C85</td>\n",
       "      <td>C</td>\n",
       "      <td>1</td>\n",
       "      <td>Cumings</td>\n",
       "      <td>0.5</td>\n",
       "      <td>(41.579, 512.329]</td>\n",
       "      <td>4</td>\n",
       "      <td>(36.0, 80.0]</td>\n",
       "      <td>3</td>\n",
       "    </tr>\n",
       "    <tr>\n",
       "      <th>2</th>\n",
       "      <td>3</td>\n",
       "      <td>1.0</td>\n",
       "      <td>3</td>\n",
       "      <td>Heikkinen, Miss. Laina</td>\n",
       "      <td>female</td>\n",
       "      <td>26.0</td>\n",
       "      <td>0</td>\n",
       "      <td>0</td>\n",
       "      <td>STON/O2. 3101282</td>\n",
       "      <td>7.9250</td>\n",
       "      <td>NaN</td>\n",
       "      <td>S</td>\n",
       "      <td>0</td>\n",
       "      <td>Heikkinen</td>\n",
       "      <td>0.5</td>\n",
       "      <td>(7.854, 10.5]</td>\n",
       "      <td>1</td>\n",
       "      <td>(22.0, 30.0]</td>\n",
       "      <td>1</td>\n",
       "    </tr>\n",
       "    <tr>\n",
       "      <th>3</th>\n",
       "      <td>4</td>\n",
       "      <td>1.0</td>\n",
       "      <td>1</td>\n",
       "      <td>Futrelle, Mrs. Jacques Heath (Lily May Peel)</td>\n",
       "      <td>female</td>\n",
       "      <td>35.0</td>\n",
       "      <td>1</td>\n",
       "      <td>0</td>\n",
       "      <td>113803</td>\n",
       "      <td>53.1000</td>\n",
       "      <td>C123</td>\n",
       "      <td>S</td>\n",
       "      <td>1</td>\n",
       "      <td>Futrelle</td>\n",
       "      <td>0.0</td>\n",
       "      <td>(41.579, 512.329]</td>\n",
       "      <td>4</td>\n",
       "      <td>(30.0, 36.0]</td>\n",
       "      <td>2</td>\n",
       "    </tr>\n",
       "    <tr>\n",
       "      <th>4</th>\n",
       "      <td>5</td>\n",
       "      <td>0.0</td>\n",
       "      <td>3</td>\n",
       "      <td>Allen, Mr. William Henry</td>\n",
       "      <td>male</td>\n",
       "      <td>35.0</td>\n",
       "      <td>0</td>\n",
       "      <td>0</td>\n",
       "      <td>373450</td>\n",
       "      <td>8.0500</td>\n",
       "      <td>NaN</td>\n",
       "      <td>S</td>\n",
       "      <td>0</td>\n",
       "      <td>Allen</td>\n",
       "      <td>0.5</td>\n",
       "      <td>(7.854, 10.5]</td>\n",
       "      <td>1</td>\n",
       "      <td>(30.0, 36.0]</td>\n",
       "      <td>2</td>\n",
       "    </tr>\n",
       "  </tbody>\n",
       "</table>\n",
       "</div>"
      ],
      "text/plain": [
       "   PassengerId  Survived  Pclass  \\\n",
       "0            1       0.0       3   \n",
       "1            2       1.0       1   \n",
       "2            3       1.0       3   \n",
       "3            4       1.0       1   \n",
       "4            5       0.0       3   \n",
       "\n",
       "                                                Name     Sex   Age  SibSp  \\\n",
       "0                            Braund, Mr. Owen Harris    male  22.0      1   \n",
       "1  Cumings, Mrs. John Bradley (Florence Briggs Th...  female  38.0      1   \n",
       "2                             Heikkinen, Miss. Laina  female  26.0      0   \n",
       "3       Futrelle, Mrs. Jacques Heath (Lily May Peel)  female  35.0      1   \n",
       "4                           Allen, Mr. William Henry    male  35.0      0   \n",
       "\n",
       "   Parch            Ticket     Fare Cabin Embarked  Family_Size   Lastname  \\\n",
       "0      0         A/5 21171   7.2500   NaN        S            1     Braund   \n",
       "1      0          PC 17599  71.2833   C85        C            1    Cumings   \n",
       "2      0  STON/O2. 3101282   7.9250   NaN        S            0  Heikkinen   \n",
       "3      0            113803  53.1000  C123        S            1   Futrelle   \n",
       "4      0            373450   8.0500   NaN        S            0      Allen   \n",
       "\n",
       "   Family_Survival            FareBin  FareBin_Code         AgeBin  \\\n",
       "0              0.5    (-0.001, 7.854]             0  (0.169, 22.0]   \n",
       "1              0.5  (41.579, 512.329]             4   (36.0, 80.0]   \n",
       "2              0.5      (7.854, 10.5]             1   (22.0, 30.0]   \n",
       "3              0.0  (41.579, 512.329]             4   (30.0, 36.0]   \n",
       "4              0.5      (7.854, 10.5]             1   (30.0, 36.0]   \n",
       "\n",
       "   AgeBin_Code  \n",
       "0            0  \n",
       "1            3  \n",
       "2            1  \n",
       "3            2  \n",
       "4            2  "
      ]
     },
     "execution_count": 16,
     "metadata": {},
     "output_type": "execute_result"
    }
   ],
   "source": [
    "data_df.head()"
   ]
  },
  {
   "cell_type": "markdown",
   "id": "472dcd8b",
   "metadata": {
    "papermill": {
     "duration": 0.018383,
     "end_time": "2023-04-03T22:49:18.521813",
     "exception": false,
     "start_time": "2023-04-03T22:49:18.503430",
     "status": "completed"
    },
    "tags": []
   },
   "source": [
    "## Sex\n",
    "\n",
    "These lines of code replace the **male** and **female** values in the *Sex* column of the *train_df* and *test_df* dataframes with **0** and **1**, respectively. This is done to convert the categorical *Sex* feature into a numerical one so that machine learning models can be trained on the data."
   ]
  },
  {
   "cell_type": "code",
   "execution_count": 17,
   "id": "cdf632ca",
   "metadata": {
    "execution": {
     "iopub.execute_input": "2023-04-03T22:49:18.561167Z",
     "iopub.status.busy": "2023-04-03T22:49:18.560677Z",
     "iopub.status.idle": "2023-04-03T22:49:18.571625Z",
     "shell.execute_reply": "2023-04-03T22:49:18.570558Z"
    },
    "papermill": {
     "duration": 0.034442,
     "end_time": "2023-04-03T22:49:18.574802",
     "exception": false,
     "start_time": "2023-04-03T22:49:18.540360",
     "status": "completed"
    },
    "tags": []
   },
   "outputs": [],
   "source": [
    "train_df['Sex'].replace(['male','female'],[0,1],inplace=True)\n",
    "test_df['Sex'].replace(['male','female'],[0,1],inplace=True)"
   ]
  },
  {
   "cell_type": "code",
   "execution_count": 18,
   "id": "370b15ed",
   "metadata": {
    "execution": {
     "iopub.execute_input": "2023-04-03T22:49:18.614203Z",
     "iopub.status.busy": "2023-04-03T22:49:18.613732Z",
     "iopub.status.idle": "2023-04-03T22:49:18.634719Z",
     "shell.execute_reply": "2023-04-03T22:49:18.632979Z"
    },
    "papermill": {
     "duration": 0.044123,
     "end_time": "2023-04-03T22:49:18.637695",
     "exception": false,
     "start_time": "2023-04-03T22:49:18.593572",
     "status": "completed"
    },
    "tags": []
   },
   "outputs": [
    {
     "data": {
      "text/html": [
       "<div>\n",
       "<style scoped>\n",
       "    .dataframe tbody tr th:only-of-type {\n",
       "        vertical-align: middle;\n",
       "    }\n",
       "\n",
       "    .dataframe tbody tr th {\n",
       "        vertical-align: top;\n",
       "    }\n",
       "\n",
       "    .dataframe thead th {\n",
       "        text-align: right;\n",
       "    }\n",
       "</style>\n",
       "<table border=\"1\" class=\"dataframe\">\n",
       "  <thead>\n",
       "    <tr style=\"text-align: right;\">\n",
       "      <th></th>\n",
       "      <th>PassengerId</th>\n",
       "      <th>Survived</th>\n",
       "      <th>Pclass</th>\n",
       "      <th>Name</th>\n",
       "      <th>Sex</th>\n",
       "      <th>SibSp</th>\n",
       "      <th>Parch</th>\n",
       "      <th>Ticket</th>\n",
       "      <th>Cabin</th>\n",
       "      <th>Embarked</th>\n",
       "      <th>Family_Size</th>\n",
       "      <th>Family_Survival</th>\n",
       "      <th>FareBin_Code</th>\n",
       "      <th>AgeBin_Code</th>\n",
       "    </tr>\n",
       "  </thead>\n",
       "  <tbody>\n",
       "    <tr>\n",
       "      <th>0</th>\n",
       "      <td>1</td>\n",
       "      <td>0</td>\n",
       "      <td>3</td>\n",
       "      <td>Braund, Mr. Owen Harris</td>\n",
       "      <td>0</td>\n",
       "      <td>1</td>\n",
       "      <td>0</td>\n",
       "      <td>A/5 21171</td>\n",
       "      <td>NaN</td>\n",
       "      <td>S</td>\n",
       "      <td>1</td>\n",
       "      <td>0.5</td>\n",
       "      <td>0</td>\n",
       "      <td>0</td>\n",
       "    </tr>\n",
       "    <tr>\n",
       "      <th>1</th>\n",
       "      <td>2</td>\n",
       "      <td>1</td>\n",
       "      <td>1</td>\n",
       "      <td>Cumings, Mrs. John Bradley (Florence Briggs Th...</td>\n",
       "      <td>1</td>\n",
       "      <td>1</td>\n",
       "      <td>0</td>\n",
       "      <td>PC 17599</td>\n",
       "      <td>C85</td>\n",
       "      <td>C</td>\n",
       "      <td>1</td>\n",
       "      <td>0.5</td>\n",
       "      <td>4</td>\n",
       "      <td>3</td>\n",
       "    </tr>\n",
       "    <tr>\n",
       "      <th>2</th>\n",
       "      <td>3</td>\n",
       "      <td>1</td>\n",
       "      <td>3</td>\n",
       "      <td>Heikkinen, Miss. Laina</td>\n",
       "      <td>1</td>\n",
       "      <td>0</td>\n",
       "      <td>0</td>\n",
       "      <td>STON/O2. 3101282</td>\n",
       "      <td>NaN</td>\n",
       "      <td>S</td>\n",
       "      <td>0</td>\n",
       "      <td>0.5</td>\n",
       "      <td>1</td>\n",
       "      <td>1</td>\n",
       "    </tr>\n",
       "    <tr>\n",
       "      <th>3</th>\n",
       "      <td>4</td>\n",
       "      <td>1</td>\n",
       "      <td>1</td>\n",
       "      <td>Futrelle, Mrs. Jacques Heath (Lily May Peel)</td>\n",
       "      <td>1</td>\n",
       "      <td>1</td>\n",
       "      <td>0</td>\n",
       "      <td>113803</td>\n",
       "      <td>C123</td>\n",
       "      <td>S</td>\n",
       "      <td>1</td>\n",
       "      <td>0.0</td>\n",
       "      <td>4</td>\n",
       "      <td>2</td>\n",
       "    </tr>\n",
       "    <tr>\n",
       "      <th>4</th>\n",
       "      <td>5</td>\n",
       "      <td>0</td>\n",
       "      <td>3</td>\n",
       "      <td>Allen, Mr. William Henry</td>\n",
       "      <td>0</td>\n",
       "      <td>0</td>\n",
       "      <td>0</td>\n",
       "      <td>373450</td>\n",
       "      <td>NaN</td>\n",
       "      <td>S</td>\n",
       "      <td>0</td>\n",
       "      <td>0.5</td>\n",
       "      <td>1</td>\n",
       "      <td>2</td>\n",
       "    </tr>\n",
       "  </tbody>\n",
       "</table>\n",
       "</div>"
      ],
      "text/plain": [
       "   PassengerId  Survived  Pclass  \\\n",
       "0            1         0       3   \n",
       "1            2         1       1   \n",
       "2            3         1       3   \n",
       "3            4         1       1   \n",
       "4            5         0       3   \n",
       "\n",
       "                                                Name  Sex  SibSp  Parch  \\\n",
       "0                            Braund, Mr. Owen Harris    0      1      0   \n",
       "1  Cumings, Mrs. John Bradley (Florence Briggs Th...    1      1      0   \n",
       "2                             Heikkinen, Miss. Laina    1      0      0   \n",
       "3       Futrelle, Mrs. Jacques Heath (Lily May Peel)    1      1      0   \n",
       "4                           Allen, Mr. William Henry    0      0      0   \n",
       "\n",
       "             Ticket Cabin Embarked  Family_Size  Family_Survival  \\\n",
       "0         A/5 21171   NaN        S            1              0.5   \n",
       "1          PC 17599   C85        C            1              0.5   \n",
       "2  STON/O2. 3101282   NaN        S            0              0.5   \n",
       "3            113803  C123        S            1              0.0   \n",
       "4            373450   NaN        S            0              0.5   \n",
       "\n",
       "   FareBin_Code  AgeBin_Code  \n",
       "0             0            0  \n",
       "1             4            3  \n",
       "2             1            1  \n",
       "3             4            2  \n",
       "4             1            2  "
      ]
     },
     "execution_count": 18,
     "metadata": {},
     "output_type": "execute_result"
    }
   ],
   "source": [
    "train_df.head()"
   ]
  },
  {
   "cell_type": "markdown",
   "id": "1ed3ee11",
   "metadata": {
    "papermill": {
     "duration": 0.018452,
     "end_time": "2023-04-03T22:49:18.675281",
     "exception": false,
     "start_time": "2023-04-03T22:49:18.656829",
     "status": "completed"
    },
    "tags": []
   },
   "source": [
    "## Clean unused data"
   ]
  },
  {
   "cell_type": "markdown",
   "id": "781025a3",
   "metadata": {
    "papermill": {
     "duration": 0.019258,
     "end_time": "2023-04-03T22:49:18.713394",
     "exception": false,
     "start_time": "2023-04-03T22:49:18.694136",
     "status": "completed"
    },
    "tags": []
   },
   "source": [
    "This code drops several columns from the *train_df* and *test_df* dataframes that are not needed for training or testing the model. Specifically, the columns being dropped are:\n",
    "\n",
    "- *Name* : Names of passengers\n",
    "- *PassengerId* : Unique IDs of passengers\n",
    "- *SibSp* : Number of siblings/spouses aboard the Titanic\n",
    "- *Parch* : Number of parents/children aboard the Titanic\n",
    "- *Ticket* : Ticket number of passengers\n",
    "- *Cabin* : Cabin number of passengers\n",
    "- *Embarked* : Port of embarkation (C = Cherbourg; Q = Queenstown; S = Southampton)\n",
    "\n",
    "These columns have been dropped as they are not expected to contribute much to the prediction of the survival of passengers, and including them in the model could potentially add unnecessary noise to the training process."
   ]
  },
  {
   "cell_type": "code",
   "execution_count": 19,
   "id": "7b8ce330",
   "metadata": {
    "execution": {
     "iopub.execute_input": "2023-04-03T22:49:18.753325Z",
     "iopub.status.busy": "2023-04-03T22:49:18.752880Z",
     "iopub.status.idle": "2023-04-03T22:49:18.763109Z",
     "shell.execute_reply": "2023-04-03T22:49:18.761603Z"
    },
    "papermill": {
     "duration": 0.033502,
     "end_time": "2023-04-03T22:49:18.765799",
     "exception": false,
     "start_time": "2023-04-03T22:49:18.732297",
     "status": "completed"
    },
    "tags": []
   },
   "outputs": [],
   "source": [
    "train_df.drop(columns=['Name', 'PassengerId', 'SibSp', 'Parch', 'Ticket', 'Cabin',\n",
    "               'Embarked'], inplace = True)\n",
    "test_df.drop(columns=['Name','PassengerId', 'SibSp', 'Parch', 'Ticket', 'Cabin',\n",
    "              'Embarked'], inplace = True)"
   ]
  },
  {
   "cell_type": "code",
   "execution_count": 20,
   "id": "b2df12d2",
   "metadata": {
    "execution": {
     "iopub.execute_input": "2023-04-03T22:49:18.805630Z",
     "iopub.status.busy": "2023-04-03T22:49:18.805151Z",
     "iopub.status.idle": "2023-04-03T22:49:18.820015Z",
     "shell.execute_reply": "2023-04-03T22:49:18.818518Z"
    },
    "papermill": {
     "duration": 0.038232,
     "end_time": "2023-04-03T22:49:18.822997",
     "exception": false,
     "start_time": "2023-04-03T22:49:18.784765",
     "status": "completed"
    },
    "tags": []
   },
   "outputs": [
    {
     "data": {
      "text/html": [
       "<div>\n",
       "<style scoped>\n",
       "    .dataframe tbody tr th:only-of-type {\n",
       "        vertical-align: middle;\n",
       "    }\n",
       "\n",
       "    .dataframe tbody tr th {\n",
       "        vertical-align: top;\n",
       "    }\n",
       "\n",
       "    .dataframe thead th {\n",
       "        text-align: right;\n",
       "    }\n",
       "</style>\n",
       "<table border=\"1\" class=\"dataframe\">\n",
       "  <thead>\n",
       "    <tr style=\"text-align: right;\">\n",
       "      <th></th>\n",
       "      <th>Survived</th>\n",
       "      <th>Pclass</th>\n",
       "      <th>Sex</th>\n",
       "      <th>Family_Size</th>\n",
       "      <th>Family_Survival</th>\n",
       "      <th>FareBin_Code</th>\n",
       "      <th>AgeBin_Code</th>\n",
       "    </tr>\n",
       "  </thead>\n",
       "  <tbody>\n",
       "    <tr>\n",
       "      <th>0</th>\n",
       "      <td>0</td>\n",
       "      <td>3</td>\n",
       "      <td>0</td>\n",
       "      <td>1</td>\n",
       "      <td>0.5</td>\n",
       "      <td>0</td>\n",
       "      <td>0</td>\n",
       "    </tr>\n",
       "    <tr>\n",
       "      <th>1</th>\n",
       "      <td>1</td>\n",
       "      <td>1</td>\n",
       "      <td>1</td>\n",
       "      <td>1</td>\n",
       "      <td>0.5</td>\n",
       "      <td>4</td>\n",
       "      <td>3</td>\n",
       "    </tr>\n",
       "    <tr>\n",
       "      <th>2</th>\n",
       "      <td>1</td>\n",
       "      <td>3</td>\n",
       "      <td>1</td>\n",
       "      <td>0</td>\n",
       "      <td>0.5</td>\n",
       "      <td>1</td>\n",
       "      <td>1</td>\n",
       "    </tr>\n",
       "    <tr>\n",
       "      <th>3</th>\n",
       "      <td>1</td>\n",
       "      <td>1</td>\n",
       "      <td>1</td>\n",
       "      <td>1</td>\n",
       "      <td>0.0</td>\n",
       "      <td>4</td>\n",
       "      <td>2</td>\n",
       "    </tr>\n",
       "    <tr>\n",
       "      <th>4</th>\n",
       "      <td>0</td>\n",
       "      <td>3</td>\n",
       "      <td>0</td>\n",
       "      <td>0</td>\n",
       "      <td>0.5</td>\n",
       "      <td>1</td>\n",
       "      <td>2</td>\n",
       "    </tr>\n",
       "  </tbody>\n",
       "</table>\n",
       "</div>"
      ],
      "text/plain": [
       "   Survived  Pclass  Sex  Family_Size  Family_Survival  FareBin_Code  \\\n",
       "0         0       3    0            1              0.5             0   \n",
       "1         1       1    1            1              0.5             4   \n",
       "2         1       3    1            0              0.5             1   \n",
       "3         1       1    1            1              0.0             4   \n",
       "4         0       3    0            0              0.5             1   \n",
       "\n",
       "   AgeBin_Code  \n",
       "0            0  \n",
       "1            3  \n",
       "2            1  \n",
       "3            2  \n",
       "4            2  "
      ]
     },
     "execution_count": 20,
     "metadata": {},
     "output_type": "execute_result"
    }
   ],
   "source": [
    "train_df.head()"
   ]
  },
  {
   "cell_type": "markdown",
   "id": "afdbcd0e",
   "metadata": {
    "papermill": {
     "duration": 0.018673,
     "end_time": "2023-04-03T22:49:18.860847",
     "exception": false,
     "start_time": "2023-04-03T22:49:18.842174",
     "status": "completed"
    },
    "tags": []
   },
   "source": [
    "# 🤖 Predictive Modeling\n",
    "\n",
    "As I already tried other predictive modeling algorithms [here](https://www.kaggle.com/code/dreygaen/titanic-eda-and-prediction-0-78229), I will only focus on the K-Nearest Neighbors classifier algorithm in this notebook.\n",
    "\n",
    "## Training\n",
    "\n",
    "Let's start by the training phase of our predictive model.\n",
    "\n",
    "### Creating X and y\n",
    "\n",
    "The code below is splitting the training dataset *train_df* into two sets - *X* and *y*.\n",
    "\n",
    "- *X* contains all the features (columns) of the training dataset except for the target variable, *Survived*.\n",
    "\n",
    "- *y* is the target variable, *Survived*, and is a one-dimensional array or series that contains the corresponding class labels for each row in *X*.\n",
    "\n",
    "The *test_df* dataset is also copied to *X_test* so that it can be used for predictions later on."
   ]
  },
  {
   "cell_type": "code",
   "execution_count": 21,
   "id": "1cb7eebd",
   "metadata": {
    "execution": {
     "iopub.execute_input": "2023-04-03T22:49:18.901213Z",
     "iopub.status.busy": "2023-04-03T22:49:18.900505Z",
     "iopub.status.idle": "2023-04-03T22:49:18.906897Z",
     "shell.execute_reply": "2023-04-03T22:49:18.905933Z"
    },
    "papermill": {
     "duration": 0.029873,
     "end_time": "2023-04-03T22:49:18.909564",
     "exception": false,
     "start_time": "2023-04-03T22:49:18.879691",
     "status": "completed"
    },
    "tags": []
   },
   "outputs": [],
   "source": [
    "X = train_df.drop(columns='Survived')\n",
    "y = train_df['Survived']\n",
    "X_test = test_df.copy()"
   ]
  },
  {
   "cell_type": "code",
   "execution_count": 22,
   "id": "a958efd3",
   "metadata": {
    "execution": {
     "iopub.execute_input": "2023-04-03T22:49:18.950280Z",
     "iopub.status.busy": "2023-04-03T22:49:18.949570Z",
     "iopub.status.idle": "2023-04-03T22:49:18.963189Z",
     "shell.execute_reply": "2023-04-03T22:49:18.961859Z"
    },
    "papermill": {
     "duration": 0.037331,
     "end_time": "2023-04-03T22:49:18.965958",
     "exception": false,
     "start_time": "2023-04-03T22:49:18.928627",
     "status": "completed"
    },
    "tags": []
   },
   "outputs": [
    {
     "data": {
      "text/html": [
       "<div>\n",
       "<style scoped>\n",
       "    .dataframe tbody tr th:only-of-type {\n",
       "        vertical-align: middle;\n",
       "    }\n",
       "\n",
       "    .dataframe tbody tr th {\n",
       "        vertical-align: top;\n",
       "    }\n",
       "\n",
       "    .dataframe thead th {\n",
       "        text-align: right;\n",
       "    }\n",
       "</style>\n",
       "<table border=\"1\" class=\"dataframe\">\n",
       "  <thead>\n",
       "    <tr style=\"text-align: right;\">\n",
       "      <th></th>\n",
       "      <th>Pclass</th>\n",
       "      <th>Sex</th>\n",
       "      <th>Family_Size</th>\n",
       "      <th>Family_Survival</th>\n",
       "      <th>FareBin_Code</th>\n",
       "      <th>AgeBin_Code</th>\n",
       "    </tr>\n",
       "  </thead>\n",
       "  <tbody>\n",
       "    <tr>\n",
       "      <th>0</th>\n",
       "      <td>3</td>\n",
       "      <td>0</td>\n",
       "      <td>1</td>\n",
       "      <td>0.5</td>\n",
       "      <td>0</td>\n",
       "      <td>0</td>\n",
       "    </tr>\n",
       "    <tr>\n",
       "      <th>1</th>\n",
       "      <td>1</td>\n",
       "      <td>1</td>\n",
       "      <td>1</td>\n",
       "      <td>0.5</td>\n",
       "      <td>4</td>\n",
       "      <td>3</td>\n",
       "    </tr>\n",
       "    <tr>\n",
       "      <th>2</th>\n",
       "      <td>3</td>\n",
       "      <td>1</td>\n",
       "      <td>0</td>\n",
       "      <td>0.5</td>\n",
       "      <td>1</td>\n",
       "      <td>1</td>\n",
       "    </tr>\n",
       "    <tr>\n",
       "      <th>3</th>\n",
       "      <td>1</td>\n",
       "      <td>1</td>\n",
       "      <td>1</td>\n",
       "      <td>0.0</td>\n",
       "      <td>4</td>\n",
       "      <td>2</td>\n",
       "    </tr>\n",
       "    <tr>\n",
       "      <th>4</th>\n",
       "      <td>3</td>\n",
       "      <td>0</td>\n",
       "      <td>0</td>\n",
       "      <td>0.5</td>\n",
       "      <td>1</td>\n",
       "      <td>2</td>\n",
       "    </tr>\n",
       "  </tbody>\n",
       "</table>\n",
       "</div>"
      ],
      "text/plain": [
       "   Pclass  Sex  Family_Size  Family_Survival  FareBin_Code  AgeBin_Code\n",
       "0       3    0            1              0.5             0            0\n",
       "1       1    1            1              0.5             4            3\n",
       "2       3    1            0              0.5             1            1\n",
       "3       1    1            1              0.0             4            2\n",
       "4       3    0            0              0.5             1            2"
      ]
     },
     "execution_count": 22,
     "metadata": {},
     "output_type": "execute_result"
    }
   ],
   "source": [
    "pd.DataFrame(X).head()"
   ]
  },
  {
   "cell_type": "code",
   "execution_count": 23,
   "id": "46728eac",
   "metadata": {
    "execution": {
     "iopub.execute_input": "2023-04-03T22:49:19.008402Z",
     "iopub.status.busy": "2023-04-03T22:49:19.007659Z",
     "iopub.status.idle": "2023-04-03T22:49:19.015596Z",
     "shell.execute_reply": "2023-04-03T22:49:19.014629Z"
    },
    "papermill": {
     "duration": 0.032739,
     "end_time": "2023-04-03T22:49:19.018066",
     "exception": false,
     "start_time": "2023-04-03T22:49:18.985327",
     "status": "completed"
    },
    "tags": []
   },
   "outputs": [
    {
     "data": {
      "text/plain": [
       "0    0\n",
       "1    1\n",
       "2    1\n",
       "3    1\n",
       "4    0\n",
       "Name: Survived, dtype: int64"
      ]
     },
     "execution_count": 23,
     "metadata": {},
     "output_type": "execute_result"
    }
   ],
   "source": [
    "y.head()"
   ]
  },
  {
   "cell_type": "markdown",
   "id": "b4130188",
   "metadata": {
    "papermill": {
     "duration": 0.019061,
     "end_time": "2023-04-03T22:49:19.056669",
     "exception": false,
     "start_time": "2023-04-03T22:49:19.037608",
     "status": "completed"
    },
    "tags": []
   },
   "source": [
    "### Scaling features\n",
    "\n",
    "The code standardizes the numerical features in the training and test datasets using **StandardScaler()** from the **scikit-learn** library. Standardization involves transforming the data so that it has a **mean of 0** and a **standard deviation of 1**.\n",
    "\n",
    "The **fit_transform()** method of the scaler is called on the training set *X* to compute the mean and standard deviation for each feature and then transform the data. The **transform()** method is then called on the test set *X_test* to apply the same transformation, but using the mean and standard deviation computed on the training set.\n",
    "\n",
    "Standardizing the data can help improve the performance of some machine learning models, particularly those that are sensitive to the scale of the input features, such as logistic regression or support vector machines."
   ]
  },
  {
   "cell_type": "code",
   "execution_count": 24,
   "id": "96c0ae47",
   "metadata": {
    "execution": {
     "iopub.execute_input": "2023-04-03T22:49:19.099570Z",
     "iopub.status.busy": "2023-04-03T22:49:19.098814Z",
     "iopub.status.idle": "2023-04-03T22:49:19.109800Z",
     "shell.execute_reply": "2023-04-03T22:49:19.108788Z"
    },
    "papermill": {
     "duration": 0.035204,
     "end_time": "2023-04-03T22:49:19.112801",
     "exception": false,
     "start_time": "2023-04-03T22:49:19.077597",
     "status": "completed"
    },
    "tags": []
   },
   "outputs": [],
   "source": [
    "std_scaler = StandardScaler()\n",
    "X = std_scaler.fit_transform(X)\n",
    "X_test = std_scaler.transform(X_test)"
   ]
  },
  {
   "cell_type": "code",
   "execution_count": 25,
   "id": "e4aedc2d",
   "metadata": {
    "execution": {
     "iopub.execute_input": "2023-04-03T22:49:19.155211Z",
     "iopub.status.busy": "2023-04-03T22:49:19.154465Z",
     "iopub.status.idle": "2023-04-03T22:49:19.168026Z",
     "shell.execute_reply": "2023-04-03T22:49:19.166795Z"
    },
    "papermill": {
     "duration": 0.039224,
     "end_time": "2023-04-03T22:49:19.171202",
     "exception": false,
     "start_time": "2023-04-03T22:49:19.131978",
     "status": "completed"
    },
    "tags": []
   },
   "outputs": [
    {
     "data": {
      "text/html": [
       "<div>\n",
       "<style scoped>\n",
       "    .dataframe tbody tr th:only-of-type {\n",
       "        vertical-align: middle;\n",
       "    }\n",
       "\n",
       "    .dataframe tbody tr th {\n",
       "        vertical-align: top;\n",
       "    }\n",
       "\n",
       "    .dataframe thead th {\n",
       "        text-align: right;\n",
       "    }\n",
       "</style>\n",
       "<table border=\"1\" class=\"dataframe\">\n",
       "  <thead>\n",
       "    <tr style=\"text-align: right;\">\n",
       "      <th></th>\n",
       "      <th>0</th>\n",
       "      <th>1</th>\n",
       "      <th>2</th>\n",
       "      <th>3</th>\n",
       "      <th>4</th>\n",
       "      <th>5</th>\n",
       "    </tr>\n",
       "  </thead>\n",
       "  <tbody>\n",
       "    <tr>\n",
       "      <th>0</th>\n",
       "      <td>0.827377</td>\n",
       "      <td>-0.737695</td>\n",
       "      <td>0.059160</td>\n",
       "      <td>-0.060661</td>\n",
       "      <td>-1.407144</td>\n",
       "      <td>-1.143781</td>\n",
       "    </tr>\n",
       "    <tr>\n",
       "      <th>1</th>\n",
       "      <td>-1.566107</td>\n",
       "      <td>1.355574</td>\n",
       "      <td>0.059160</td>\n",
       "      <td>-0.060661</td>\n",
       "      <td>1.429429</td>\n",
       "      <td>1.540439</td>\n",
       "    </tr>\n",
       "    <tr>\n",
       "      <th>2</th>\n",
       "      <td>0.827377</td>\n",
       "      <td>1.355574</td>\n",
       "      <td>-0.560975</td>\n",
       "      <td>-0.060661</td>\n",
       "      <td>-0.698001</td>\n",
       "      <td>-0.249041</td>\n",
       "    </tr>\n",
       "    <tr>\n",
       "      <th>3</th>\n",
       "      <td>-1.566107</td>\n",
       "      <td>1.355574</td>\n",
       "      <td>0.059160</td>\n",
       "      <td>-1.604923</td>\n",
       "      <td>1.429429</td>\n",
       "      <td>0.645699</td>\n",
       "    </tr>\n",
       "    <tr>\n",
       "      <th>4</th>\n",
       "      <td>0.827377</td>\n",
       "      <td>-0.737695</td>\n",
       "      <td>-0.560975</td>\n",
       "      <td>-0.060661</td>\n",
       "      <td>-0.698001</td>\n",
       "      <td>0.645699</td>\n",
       "    </tr>\n",
       "  </tbody>\n",
       "</table>\n",
       "</div>"
      ],
      "text/plain": [
       "          0         1         2         3         4         5\n",
       "0  0.827377 -0.737695  0.059160 -0.060661 -1.407144 -1.143781\n",
       "1 -1.566107  1.355574  0.059160 -0.060661  1.429429  1.540439\n",
       "2  0.827377  1.355574 -0.560975 -0.060661 -0.698001 -0.249041\n",
       "3 -1.566107  1.355574  0.059160 -1.604923  1.429429  0.645699\n",
       "4  0.827377 -0.737695 -0.560975 -0.060661 -0.698001  0.645699"
      ]
     },
     "execution_count": 25,
     "metadata": {},
     "output_type": "execute_result"
    }
   ],
   "source": [
    "pd.DataFrame(X).head()"
   ]
  },
  {
   "cell_type": "markdown",
   "id": "f8c4f289",
   "metadata": {
    "papermill": {
     "duration": 0.01903,
     "end_time": "2023-04-03T22:49:19.209810",
     "exception": false,
     "start_time": "2023-04-03T22:49:19.190780",
     "status": "completed"
    },
    "tags": []
   },
   "source": [
    "### Hyperparameters tuning\n",
    "\n",
    "This code is performing a grid search using cross-validation to find the best hyperparameters for a K-Nearest Neighbors classifier. The hyperparameters being searched over are:\n",
    "\n",
    "- *algorithm* : the algorithm used to compute the nearest neighbors\n",
    "- *weights* : the weighting function used in prediction\n",
    "- *leaf_size* : the size of the leaf in the KD tree\n",
    "- *n_neighbors* : the number of neighbors to use for classification\n",
    "\n",
    "The grid search is performed using 10-fold cross-validation, with the **roc_auc** scoring metric. Once the grid search is complete, the best score and best hyperparameters are printed out."
   ]
  },
  {
   "cell_type": "code",
   "execution_count": 26,
   "id": "c3ae7e5f",
   "metadata": {
    "execution": {
     "iopub.execute_input": "2023-04-03T22:49:19.250991Z",
     "iopub.status.busy": "2023-04-03T22:49:19.250536Z",
     "iopub.status.idle": "2023-04-03T22:49:31.699850Z",
     "shell.execute_reply": "2023-04-03T22:49:31.698197Z"
    },
    "papermill": {
     "duration": 12.473737,
     "end_time": "2023-04-03T22:49:31.703039",
     "exception": false,
     "start_time": "2023-04-03T22:49:19.229302",
     "status": "completed"
    },
    "tags": []
   },
   "outputs": [
    {
     "name": "stdout",
     "output_type": "stream",
     "text": [
      "Fitting 10 folds for each of 240 candidates, totalling 2400 fits\n",
      "0.8790514387573211\n",
      "{'algorithm': 'auto', 'leaf_size': 16, 'n_neighbors': 18, 'weights': 'uniform'}\n"
     ]
    }
   ],
   "source": [
    "n_neighbors = [6,7,8,9,10,11,12,14,16,18,20,22]\n",
    "algorithm = ['auto']\n",
    "weights = ['uniform', 'distance']\n",
    "leaf_size = list(range(1,50,5))\n",
    "\n",
    "hyperparams = {'algorithm': algorithm, 'weights': weights, 'leaf_size': leaf_size, \n",
    "               'n_neighbors': n_neighbors}\n",
    "\n",
    "gd=GridSearchCV(estimator = KNeighborsClassifier(), param_grid = hyperparams, verbose=True, \n",
    "                cv=10, scoring = \"roc_auc\")\n",
    "\n",
    "gd.fit(X, y)\n",
    "print(gd.best_score_)\n",
    "print(gd.best_params_)"
   ]
  },
  {
   "cell_type": "markdown",
   "id": "3433fd22",
   "metadata": {
    "papermill": {
     "duration": 0.019364,
     "end_time": "2023-04-03T22:49:31.742266",
     "exception": false,
     "start_time": "2023-04-03T22:49:31.722902",
     "status": "completed"
    },
    "tags": []
   },
   "source": [
    "## Predicting\n",
    "\n",
    "Let's see how well our KNN model performs on the public test dataset.\n",
    "\n",
    "### Model found by Grid Searching\n",
    "\n",
    "This code fits the best estimator found by the grid search cross-validation on the training data (*X* and *y*). Then, it uses the fitted model to make predictions on the test data *X_test* and stores the predictions in *y_pred*. The *y_pred* variable contains the predicted binary labels for the survival of each passenger in the test set."
   ]
  },
  {
   "cell_type": "code",
   "execution_count": 27,
   "id": "4b645bfe",
   "metadata": {
    "execution": {
     "iopub.execute_input": "2023-04-03T22:49:31.785153Z",
     "iopub.status.busy": "2023-04-03T22:49:31.784686Z",
     "iopub.status.idle": "2023-04-03T22:49:31.808317Z",
     "shell.execute_reply": "2023-04-03T22:49:31.807013Z"
    },
    "papermill": {
     "duration": 0.04814,
     "end_time": "2023-04-03T22:49:31.811519",
     "exception": false,
     "start_time": "2023-04-03T22:49:31.763379",
     "status": "completed"
    },
    "tags": []
   },
   "outputs": [],
   "source": [
    "gd.best_estimator_.fit(X, y)\n",
    "y_pred = gd.best_estimator_.predict(X_test)"
   ]
  },
  {
   "cell_type": "code",
   "execution_count": 28,
   "id": "47b11f52",
   "metadata": {
    "execution": {
     "iopub.execute_input": "2023-04-03T22:49:31.853856Z",
     "iopub.status.busy": "2023-04-03T22:49:31.852137Z",
     "iopub.status.idle": "2023-04-03T22:49:31.864625Z",
     "shell.execute_reply": "2023-04-03T22:49:31.862877Z"
    },
    "papermill": {
     "duration": 0.036505,
     "end_time": "2023-04-03T22:49:31.867513",
     "exception": false,
     "start_time": "2023-04-03T22:49:31.831008",
     "status": "completed"
    },
    "tags": []
   },
   "outputs": [
    {
     "data": {
      "text/html": [
       "<div>\n",
       "<style scoped>\n",
       "    .dataframe tbody tr th:only-of-type {\n",
       "        vertical-align: middle;\n",
       "    }\n",
       "\n",
       "    .dataframe tbody tr th {\n",
       "        vertical-align: top;\n",
       "    }\n",
       "\n",
       "    .dataframe thead th {\n",
       "        text-align: right;\n",
       "    }\n",
       "</style>\n",
       "<table border=\"1\" class=\"dataframe\">\n",
       "  <thead>\n",
       "    <tr style=\"text-align: right;\">\n",
       "      <th></th>\n",
       "      <th>0</th>\n",
       "    </tr>\n",
       "  </thead>\n",
       "  <tbody>\n",
       "    <tr>\n",
       "      <th>0</th>\n",
       "      <td>0</td>\n",
       "    </tr>\n",
       "    <tr>\n",
       "      <th>1</th>\n",
       "      <td>1</td>\n",
       "    </tr>\n",
       "    <tr>\n",
       "      <th>2</th>\n",
       "      <td>0</td>\n",
       "    </tr>\n",
       "    <tr>\n",
       "      <th>3</th>\n",
       "      <td>0</td>\n",
       "    </tr>\n",
       "    <tr>\n",
       "      <th>4</th>\n",
       "      <td>1</td>\n",
       "    </tr>\n",
       "  </tbody>\n",
       "</table>\n",
       "</div>"
      ],
      "text/plain": [
       "   0\n",
       "0  0\n",
       "1  1\n",
       "2  0\n",
       "3  0\n",
       "4  1"
      ]
     },
     "execution_count": 28,
     "metadata": {},
     "output_type": "execute_result"
    }
   ],
   "source": [
    "pd.DataFrame(y_pred).head()"
   ]
  },
  {
   "cell_type": "markdown",
   "id": "5eedc375",
   "metadata": {
    "papermill": {
     "duration": 0.0194,
     "end_time": "2023-04-03T22:49:31.907259",
     "exception": false,
     "start_time": "2023-04-03T22:49:31.887859",
     "status": "completed"
    },
    "tags": []
   },
   "source": [
    "- ***Public score*** : 0.81578"
   ]
  },
  {
   "cell_type": "markdown",
   "id": "9d619809",
   "metadata": {
    "papermill": {
     "duration": 0.019948,
     "end_time": "2023-04-03T22:49:31.947382",
     "exception": false,
     "start_time": "2023-04-03T22:49:31.927434",
     "status": "completed"
    },
    "tags": []
   },
   "source": [
    "### Another model with less neighbors\n",
    "\n",
    "Messing around with less neighbors seems to increase our public score, so here is the final model."
   ]
  },
  {
   "cell_type": "code",
   "execution_count": 29,
   "id": "6c888149",
   "metadata": {
    "execution": {
     "iopub.execute_input": "2023-04-03T22:49:31.989472Z",
     "iopub.status.busy": "2023-04-03T22:49:31.988990Z",
     "iopub.status.idle": "2023-04-03T22:49:32.013051Z",
     "shell.execute_reply": "2023-04-03T22:49:32.011661Z"
    },
    "papermill": {
     "duration": 0.04883,
     "end_time": "2023-04-03T22:49:32.016258",
     "exception": false,
     "start_time": "2023-04-03T22:49:31.967428",
     "status": "completed"
    },
    "tags": []
   },
   "outputs": [],
   "source": [
    "knn = KNeighborsClassifier(algorithm='auto', leaf_size=16, metric='minkowski', \n",
    "                           metric_params=None, n_jobs=1, n_neighbors=6, p=2, \n",
    "                           weights='uniform')\n",
    "knn.fit(X, y)\n",
    "y_pred = knn.predict(X_test)"
   ]
  },
  {
   "cell_type": "code",
   "execution_count": 30,
   "id": "a2e6a5ee",
   "metadata": {
    "execution": {
     "iopub.execute_input": "2023-04-03T22:49:32.057852Z",
     "iopub.status.busy": "2023-04-03T22:49:32.057388Z",
     "iopub.status.idle": "2023-04-03T22:49:32.067737Z",
     "shell.execute_reply": "2023-04-03T22:49:32.066404Z"
    },
    "papermill": {
     "duration": 0.03429,
     "end_time": "2023-04-03T22:49:32.070270",
     "exception": false,
     "start_time": "2023-04-03T22:49:32.035980",
     "status": "completed"
    },
    "tags": []
   },
   "outputs": [
    {
     "data": {
      "text/html": [
       "<div>\n",
       "<style scoped>\n",
       "    .dataframe tbody tr th:only-of-type {\n",
       "        vertical-align: middle;\n",
       "    }\n",
       "\n",
       "    .dataframe tbody tr th {\n",
       "        vertical-align: top;\n",
       "    }\n",
       "\n",
       "    .dataframe thead th {\n",
       "        text-align: right;\n",
       "    }\n",
       "</style>\n",
       "<table border=\"1\" class=\"dataframe\">\n",
       "  <thead>\n",
       "    <tr style=\"text-align: right;\">\n",
       "      <th></th>\n",
       "      <th>0</th>\n",
       "    </tr>\n",
       "  </thead>\n",
       "  <tbody>\n",
       "    <tr>\n",
       "      <th>0</th>\n",
       "      <td>0</td>\n",
       "    </tr>\n",
       "    <tr>\n",
       "      <th>1</th>\n",
       "      <td>0</td>\n",
       "    </tr>\n",
       "    <tr>\n",
       "      <th>2</th>\n",
       "      <td>0</td>\n",
       "    </tr>\n",
       "    <tr>\n",
       "      <th>3</th>\n",
       "      <td>0</td>\n",
       "    </tr>\n",
       "    <tr>\n",
       "      <th>4</th>\n",
       "      <td>1</td>\n",
       "    </tr>\n",
       "  </tbody>\n",
       "</table>\n",
       "</div>"
      ],
      "text/plain": [
       "   0\n",
       "0  0\n",
       "1  0\n",
       "2  0\n",
       "3  0\n",
       "4  1"
      ]
     },
     "execution_count": 30,
     "metadata": {},
     "output_type": "execute_result"
    }
   ],
   "source": [
    "pd.DataFrame(y_pred).head()"
   ]
  },
  {
   "cell_type": "markdown",
   "id": "bca4c079",
   "metadata": {
    "papermill": {
     "duration": 0.019712,
     "end_time": "2023-04-03T22:49:32.109715",
     "exception": false,
     "start_time": "2023-04-03T22:49:32.090003",
     "status": "completed"
    },
    "tags": []
   },
   "source": [
    "- ***Public score*** : 0.81818"
   ]
  },
  {
   "cell_type": "markdown",
   "id": "ec701c63",
   "metadata": {
    "papermill": {
     "duration": 0.019568,
     "end_time": "2023-04-03T22:49:32.150205",
     "exception": false,
     "start_time": "2023-04-03T22:49:32.130637",
     "status": "completed"
    },
    "tags": []
   },
   "source": [
    "### Confusion matrixes\n",
    "\n",
    "This code is generating two confusion matrices using **Seaborn**'s heatmap function.\n",
    "\n",
    "First, it is using **cross_val_predict** function from **sklearn.model_selection** to generate predicted target values for the given **KNeighborsClassifier** model with hyperparameters *algorithm*, *leaf_size*, *metric*, *n_neighbors*, *p*, and *weights*.\n",
    "\n",
    "Then, it generates the confusion matrix using sklearn's confusion_matrix function on the actual target values and the predicted target values.\n",
    "\n",
    "Finally, it plots both confusion matrices side-by-side using **Seaborn**'s heatmap function with annotations and custom titles for each matrix."
   ]
  },
  {
   "cell_type": "code",
   "execution_count": 31,
   "id": "ab44880a",
   "metadata": {
    "execution": {
     "iopub.execute_input": "2023-04-03T22:49:32.191845Z",
     "iopub.status.busy": "2023-04-03T22:49:32.191384Z",
     "iopub.status.idle": "2023-04-03T22:49:32.854386Z",
     "shell.execute_reply": "2023-04-03T22:49:32.852907Z"
    },
    "papermill": {
     "duration": 0.687587,
     "end_time": "2023-04-03T22:49:32.857515",
     "exception": false,
     "start_time": "2023-04-03T22:49:32.169928",
     "status": "completed"
    },
    "tags": []
   },
   "outputs": [
    {
     "data": {
      "image/png": "[encoded data removed]",
      "text/plain": [
       "<Figure size 1800x800 with 4 Axes>"
      ]
     },
     "metadata": {},
     "output_type": "display_data"
    }
   ],
   "source": [
    "f, ax = plt.subplots(1, 2, figsize=(18,8))\n",
    "\n",
    "y_cross = cross_val_predict(KNeighborsClassifier(algorithm='auto', leaf_size=26, metric='minkowski',\n",
    "                            metric_params=None, n_jobs=1, n_neighbors=22, p=2,\n",
    "                            weights='uniform'), X, y, cv=10) \n",
    "sns.heatmap(confusion_matrix(y, y_cross), ax=ax[0], annot=True, fmt='2.0f') \n",
    "ax[0].set_title('Matrix for KNN-1')\n",
    "\n",
    "y_cross = cross_val_predict(KNeighborsClassifier(algorithm='auto', leaf_size=16, metric='minkowski', \n",
    "                           metric_params=None, n_jobs=1, n_neighbors=6, p=2, \n",
    "                           weights='uniform'), X, y, cv=10) \n",
    "sns.heatmap(confusion_matrix(y, y_cross), ax=ax[1], annot=True, fmt='2.0f') \n",
    "ax[1].set_title('Matrix for KNN-2')\n",
    "\n",
    "plt.show()"
   ]
  },
  {
   "cell_type": "markdown",
   "id": "4040febe",
   "metadata": {
    "papermill": {
     "duration": 0.020663,
     "end_time": "2023-04-03T22:49:32.899613",
     "exception": false,
     "start_time": "2023-04-03T22:49:32.878950",
     "status": "completed"
    },
    "tags": []
   },
   "source": [
    "### Feature Importance\n",
    "\n",
    "This code fits two KNN classifiers with different hyperparameters on a train-validation split of the Titanic dataset, and then calculates and plots the permutation feature importance for each of them. Here's a breakdown of the code: Firstly, our two KNN classifiers are instantiated."
   ]
  },
  {
   "cell_type": "code",
   "execution_count": 32,
   "id": "bca7128b",
   "metadata": {
    "execution": {
     "iopub.execute_input": "2023-04-03T22:49:32.943352Z",
     "iopub.status.busy": "2023-04-03T22:49:32.942943Z",
     "iopub.status.idle": "2023-04-03T22:49:32.950390Z",
     "shell.execute_reply": "2023-04-03T22:49:32.948810Z"
    },
    "papermill": {
     "duration": 0.032506,
     "end_time": "2023-04-03T22:49:32.953115",
     "exception": false,
     "start_time": "2023-04-03T22:49:32.920609",
     "status": "completed"
    },
    "tags": []
   },
   "outputs": [],
   "source": [
    "knn_1 = KNeighborsClassifier(algorithm='auto', leaf_size=26, metric='minkowski',\n",
    "                            metric_params=None, n_jobs=1, n_neighbors=22, p=2,\n",
    "                            weights='uniform')\n",
    "\n",
    "knn_2 = KNeighborsClassifier(algorithm='auto', leaf_size=16, metric='minkowski', \n",
    "                           metric_params=None, n_jobs=1, n_neighbors=6, p=2, \n",
    "                           weights='uniform')"
   ]
  },
  {
   "cell_type": "markdown",
   "id": "f0435d07",
   "metadata": {
    "papermill": {
     "duration": 0.020264,
     "end_time": "2023-04-03T22:49:32.994092",
     "exception": false,
     "start_time": "2023-04-03T22:49:32.973828",
     "status": "completed"
    },
    "tags": []
   },
   "source": [
    "A train-validation split is performed on the Titanic dataset."
   ]
  },
  {
   "cell_type": "code",
   "execution_count": 33,
   "id": "53dede11",
   "metadata": {
    "execution": {
     "iopub.execute_input": "2023-04-03T22:49:33.039655Z",
     "iopub.status.busy": "2023-04-03T22:49:33.037960Z",
     "iopub.status.idle": "2023-04-03T22:49:33.051779Z",
     "shell.execute_reply": "2023-04-03T22:49:33.050360Z"
    },
    "papermill": {
     "duration": 0.040193,
     "end_time": "2023-04-03T22:49:33.055026",
     "exception": false,
     "start_time": "2023-04-03T22:49:33.014833",
     "status": "completed"
    },
    "tags": []
   },
   "outputs": [],
   "source": [
    "train, val = train_test_split(train_df, test_size=0.3, random_state=0, stratify=train_df['Survived'])\n",
    "train_X = train[train.columns[1:]]\n",
    "train_y = train[train.columns[:1]]\n",
    "test_X = val[val.columns[1:]]\n",
    "test_y = val[val.columns[:1]]"
   ]
  },
  {
   "cell_type": "markdown",
   "id": "d0f7a3f1",
   "metadata": {
    "papermill": {
     "duration": 0.021021,
     "end_time": "2023-04-03T22:49:33.097306",
     "exception": false,
     "start_time": "2023-04-03T22:49:33.076285",
     "status": "completed"
    },
    "tags": []
   },
   "source": [
    "The two KNN classifiers are fitted on the training data."
   ]
  },
  {
   "cell_type": "code",
   "execution_count": 34,
   "id": "6fcc8284",
   "metadata": {
    "execution": {
     "iopub.execute_input": "2023-04-03T22:49:33.142054Z",
     "iopub.status.busy": "2023-04-03T22:49:33.141597Z",
     "iopub.status.idle": "2023-04-03T22:49:33.163212Z",
     "shell.execute_reply": "2023-04-03T22:49:33.161419Z"
    },
    "papermill": {
     "duration": 0.04832,
     "end_time": "2023-04-03T22:49:33.166616",
     "exception": false,
     "start_time": "2023-04-03T22:49:33.118296",
     "status": "completed"
    },
    "tags": []
   },
   "outputs": [
    {
     "data": {
      "text/plain": [
       "KNeighborsClassifier(leaf_size=16, n_jobs=1, n_neighbors=6)"
      ]
     },
     "execution_count": 34,
     "metadata": {},
     "output_type": "execute_result"
    }
   ],
   "source": [
    "knn_1.fit(train_X, train_y.values.ravel())\n",
    "knn_2.fit(train_X, train_y.values.ravel())"
   ]
  },
  {
   "cell_type": "markdown",
   "id": "0802e5b6",
   "metadata": {
    "papermill": {
     "duration": 0.020778,
     "end_time": "2023-04-03T22:49:33.208666",
     "exception": false,
     "start_time": "2023-04-03T22:49:33.187888",
     "status": "completed"
    },
    "tags": []
   },
   "source": [
    "The permutation feature importance is calculated for each classifier using the validation set."
   ]
  },
  {
   "cell_type": "code",
   "execution_count": 35,
   "id": "b71a3722",
   "metadata": {
    "execution": {
     "iopub.execute_input": "2023-04-03T22:49:33.253764Z",
     "iopub.status.busy": "2023-04-03T22:49:33.252281Z",
     "iopub.status.idle": "2023-04-03T22:49:34.771432Z",
     "shell.execute_reply": "2023-04-03T22:49:34.769855Z"
    },
    "papermill": {
     "duration": 1.545025,
     "end_time": "2023-04-03T22:49:34.774643",
     "exception": false,
     "start_time": "2023-04-03T22:49:33.229618",
     "status": "completed"
    },
    "tags": []
   },
   "outputs": [],
   "source": [
    "result_1 = permutation_importance(knn_1, test_X, test_y, n_repeats=10, random_state=0)\n",
    "result_2 = permutation_importance(knn_2, test_X, test_y, n_repeats=10, random_state=0)"
   ]
  },
  {
   "cell_type": "markdown",
   "id": "ace919dd",
   "metadata": {
    "papermill": {
     "duration": 0.020171,
     "end_time": "2023-04-03T22:49:34.815484",
     "exception": false,
     "start_time": "2023-04-03T22:49:34.795313",
     "status": "completed"
    },
    "tags": []
   },
   "source": [
    "The feature importance for each classifier is plotted using a seaborn barplot."
   ]
  },
  {
   "cell_type": "code",
   "execution_count": 36,
   "id": "a4c8ff91",
   "metadata": {
    "execution": {
     "iopub.execute_input": "2023-04-03T22:49:34.858762Z",
     "iopub.status.busy": "2023-04-03T22:49:34.858288Z",
     "iopub.status.idle": "2023-04-03T22:49:35.488146Z",
     "shell.execute_reply": "2023-04-03T22:49:35.486792Z"
    },
    "papermill": {
     "duration": 0.655229,
     "end_time": "2023-04-03T22:49:35.491241",
     "exception": false,
     "start_time": "2023-04-03T22:49:34.836012",
     "status": "completed"
    },
    "tags": []
   },
   "outputs": [
    {
     "data": {
      "image/png": "[encoded data removed]",
      "text/plain": [
       "<Figure size 1800x800 with 2 Axes>"
      ]
     },
     "metadata": {},
     "output_type": "display_data"
    }
   ],
   "source": [
    "f, ax = plt.subplots(1, 2, figsize=(18,8))\n",
    "\n",
    "sns.barplot(y=test_X.columns[result_1.importances_mean.argsort()], x=result_1.importances_mean[result_1.importances_mean.argsort()], ax=ax[0])\n",
    "ax[0].set_title(\"Permutation Importance KNN-1\")\n",
    "\n",
    "sns.barplot(y=test_X.columns[result_2.importances_mean.argsort()], x=result_2.importances_mean[result_2.importances_mean.argsort()], ax=ax[1])\n",
    "ax[1].set_title(\"Permutation Importance KNN-2\")\n",
    "\n",
    "plt.show()"
   ]
  },
  {
   "cell_type": "markdown",
   "id": "913e964d",
   "metadata": {
    "papermill": {
     "duration": 0.020683,
     "end_time": "2023-04-03T22:49:35.532998",
     "exception": false,
     "start_time": "2023-04-03T22:49:35.512315",
     "status": "completed"
    },
    "tags": []
   },
   "source": [
    "### Clusters\n",
    "\n",
    "In this code block, we are first using the trained KNN classifiers *knn_1* and *knn_2* to make predictions on the test data *test_X*. The predicted labels are stored in *y_pred_1* and *y_pred_2*.\n",
    "\n",
    "Next, we are using Principal Component Analysis (PCA) to reduce the dimensionality of the test data *test_X*. PCA is a technique used for reducing the dimensionality of high-dimensional datasets by projecting the data onto a lower-dimensional space while retaining most of the original information. Here, we are reducing the dimensionality to 2 dimensions so that we can easily plot the data.\n",
    "\n",
    "We then create two dataframes, *pca_df_1* and *pca_df_2*, that contain the two PCA components and the predicted labels from the corresponding KNN classifiers. These dataframes are then used to plot the clusters using **sns.scatterplot()** function from the Seaborn library. The *hue* parameter is set to the predicted labels so that the clusters can be easily visualized. The resulting plot shows the clusters of the test data based on the predicted labels from the two different KNN classifiers."
   ]
  },
  {
   "cell_type": "code",
   "execution_count": 37,
   "id": "78346227",
   "metadata": {
    "execution": {
     "iopub.execute_input": "2023-04-03T22:49:35.576789Z",
     "iopub.status.busy": "2023-04-03T22:49:35.576046Z",
     "iopub.status.idle": "2023-04-03T22:49:36.143378Z",
     "shell.execute_reply": "2023-04-03T22:49:36.141859Z"
    },
    "papermill": {
     "duration": 0.592534,
     "end_time": "2023-04-03T22:49:36.146215",
     "exception": false,
     "start_time": "2023-04-03T22:49:35.553681",
     "status": "completed"
    },
    "tags": []
   },
   "outputs": [
    {
     "data": {
      "image/png": "[encoded data removed]",
      "text/plain": [
       "<Figure size 1800x800 with 2 Axes>"
      ]
     },
     "metadata": {},
     "output_type": "display_data"
    }
   ],
   "source": [
    "y_pred_1 = knn_1.predict(test_X)\n",
    "y_pred_2 = knn_2.predict(test_X)\n",
    "\n",
    "# Perform PCA on data\n",
    "pca = PCA(n_components=2)\n",
    "X_pca = pca.fit_transform(test_X)\n",
    "\n",
    "\n",
    "# Create a dataframe with PCA components and predicted labels\n",
    "pca_df_1 = pd.DataFrame(data=X_pca, columns=['PC1', 'PC2'])\n",
    "pca_df_1['y_pred'] = y_pred_1\n",
    "pca_df_2 = pd.DataFrame(data=X_pca, columns=['PC1', 'PC2'])\n",
    "pca_df_2['y_pred'] = y_pred_2\n",
    "\n",
    "# Plot clusters using seaborn\n",
    "f, ax = plt.subplots(1, 2, figsize=(18,8))\n",
    "\n",
    "sns.scatterplot(data=pca_df_1, x='PC1', y='PC2', hue='y_pred', ax=ax[0])\n",
    "sns.scatterplot(data=pca_df_2, x='PC1', y='PC2', hue='y_pred', ax=ax[1])\n",
    "plt.show()"
   ]
  },
  {
   "cell_type": "markdown",
   "id": "3279118c",
   "metadata": {
    "papermill": {
     "duration": 0.0221,
     "end_time": "2023-04-03T22:49:36.191599",
     "exception": false,
     "start_time": "2023-04-03T22:49:36.169499",
     "status": "completed"
    },
    "tags": []
   },
   "source": [
    "# 🥇 Place in the leaderboard\n",
    "\n",
    "This code loads a dataset called *titanic_lb* which contains the public leaderboard data for the Titanic Kaggle competition. The code then uses the **Counter** function from the Python collections module to count the frequency of each score in the dataset.\n",
    "\n",
    "The code then creates a bar plot using **matplotlib** to display the distribution of the scores. The x-axis represents the range of possible scores between 0.6 and 0.85, and the y-axis represents the frequency of scores falling within each bin of width 0.004. The resulting plot gives an idea of how the scores were distributed on the public leaderboard during the competition."
   ]
  },
  {
   "cell_type": "code",
   "execution_count": 38,
   "id": "d652c913",
   "metadata": {
    "execution": {
     "iopub.execute_input": "2023-04-03T22:49:36.239798Z",
     "iopub.status.busy": "2023-04-03T22:49:36.238842Z",
     "iopub.status.idle": "2023-04-03T22:49:36.839543Z",
     "shell.execute_reply": "2023-04-03T22:49:36.838244Z"
    },
    "papermill": {
     "duration": 0.627841,
     "end_time": "2023-04-03T22:49:36.842385",
     "exception": false,
     "start_time": "2023-04-03T22:49:36.214544",
     "status": "completed"
    },
    "tags": []
   },
   "outputs": [
    {
     "data": {
      "image/png": "[encoded data removed]",
      "text/plain": [
       "<Figure size 1600x600 with 1 Axes>"
      ]
     },
     "metadata": {},
     "output_type": "display_data"
    }
   ],
   "source": [
    "titanic_lb = pd.read_csv('../input/titanic-leaderboard/titanic-publicleaderboard.csv')\n",
    "titanic_ct = Counter(titanic_lb[\"Score\"])\n",
    "\n",
    "plt.figure(figsize=(16,6))\n",
    "plt.xlabel  (\"Score\")\n",
    "plt.ylabel  (\"Frequency\")\n",
    "plt.xlim((0.6,0.85))\n",
    "plt.bar(titanic_ct.keys(), titanic_ct.values(), width=0.004)\n",
    "plt.show()"
   ]
  },
  {
   "cell_type": "markdown",
   "id": "0b75aae0",
   "metadata": {
    "papermill": {
     "duration": 0.024214,
     "end_time": "2023-04-03T22:49:36.890836",
     "exception": false,
     "start_time": "2023-04-03T22:49:36.866622",
     "status": "completed"
    },
    "tags": []
   },
   "source": [
    "This code snippet is counting the number of submissions in the *titanic_lb* dataset that have a score equal to or greater than **0.81818**.\n",
    "\n",
    "The code first initializes a variable called *sum* to zero. It then loops through each key in the *titanic_ct* dictionary (which contains the frequency of each score in the dataset). If the key (score) is greater than or equal to **0.81818**, then the value (frequency) associated with that key is added to the *sum* variable.\n",
    "\n",
    "Finally, the code prints out the value of the *sum* variable, which represents the total number of submissions with a score of **0.81818** or higher in the dataset."
   ]
  },
  {
   "cell_type": "code",
   "execution_count": 39,
   "id": "b9e27948",
   "metadata": {
    "execution": {
     "iopub.execute_input": "2023-04-03T22:49:36.938752Z",
     "iopub.status.busy": "2023-04-03T22:49:36.937878Z",
     "iopub.status.idle": "2023-04-03T22:49:36.945686Z",
     "shell.execute_reply": "2023-04-03T22:49:36.944128Z"
    },
    "papermill": {
     "duration": 0.035821,
     "end_time": "2023-04-03T22:49:36.949071",
     "exception": false,
     "start_time": "2023-04-03T22:49:36.913250",
     "status": "completed"
    },
    "tags": []
   },
   "outputs": [
    {
     "name": "stdout",
     "output_type": "stream",
     "text": [
      "Number of submissions whose score is equal or greater than 0.81818 is: 133\n"
     ]
    }
   ],
   "source": [
    "# sum the number of submissions with a score > 0.81818\n",
    "sum = 0\n",
    "for key in titanic_ct:\n",
    "    if key >= 0.81818:\n",
    "        sum = sum + titanic_ct[key]\n",
    "print(\"Number of submissions whose score is equal or greater than 0.81818 is:\",sum)"
   ]
  },
  {
   "cell_type": "markdown",
   "id": "29947a8e",
   "metadata": {
    "papermill": {
     "duration": 0.022804,
     "end_time": "2023-04-03T22:49:36.994963",
     "exception": false,
     "start_time": "2023-04-03T22:49:36.972159",
     "status": "completed"
    },
    "tags": []
   },
   "source": [
    "We now remove the 'perfect' scores from our tally, as they are basically rubbish."
   ]
  },
  {
   "cell_type": "code",
   "execution_count": 40,
   "id": "e5f90824",
   "metadata": {
    "execution": {
     "iopub.execute_input": "2023-04-03T22:49:37.043568Z",
     "iopub.status.busy": "2023-04-03T22:49:37.043110Z",
     "iopub.status.idle": "2023-04-03T22:49:37.050113Z",
     "shell.execute_reply": "2023-04-03T22:49:37.048096Z"
    },
    "papermill": {
     "duration": 0.034577,
     "end_time": "2023-04-03T22:49:37.052881",
     "exception": false,
     "start_time": "2023-04-03T22:49:37.018304",
     "status": "completed"
    },
    "tags": []
   },
   "outputs": [
    {
     "name": "stdout",
     "output_type": "stream",
     "text": [
      "less those with a perfect 1.00000 is: 54\n"
     ]
    }
   ],
   "source": [
    "# take away the 1.00000 bin\n",
    "correct_sum = sum - titanic_ct[1.0]\n",
    "print(\"less those with a perfect 1.00000 is:\", correct_sum)"
   ]
  },
  {
   "cell_type": "markdown",
   "id": "981ce82a",
   "metadata": {
    "papermill": {
     "duration": 0.02265,
     "end_time": "2023-04-03T22:49:37.098612",
     "exception": false,
     "start_time": "2023-04-03T22:49:37.075962",
     "status": "completed"
    },
    "tags": []
   },
   "source": [
    "This code calculates the percentage of submissions in the Titanic Kaggle competition with a score of **0.81818** or higher, which is a commonly used threshold for a good performing model.\n",
    "\n",
    "The first step is to calculate the number of submissions with a score of **0.81818** or higher, which was previously computed and stored in the variable *correct_sum*.\n",
    "\n",
    "Next, the code calculates the percentage of these submissions by dividing *correct_sum* by the total number of submissions and multiplying by 100. The result is rounded to 2 decimal places using the **round()** function.\n",
    "\n",
    "Finally, the percentage is printed along with some explanatory text."
   ]
  },
  {
   "cell_type": "code",
   "execution_count": 41,
   "id": "6d539d6a",
   "metadata": {
    "execution": {
     "iopub.execute_input": "2023-04-03T22:49:37.146565Z",
     "iopub.status.busy": "2023-04-03T22:49:37.146115Z",
     "iopub.status.idle": "2023-04-03T22:49:37.153822Z",
     "shell.execute_reply": "2023-04-03T22:49:37.152491Z"
    },
    "papermill": {
     "duration": 0.034761,
     "end_time": "2023-04-03T22:49:37.156275",
     "exception": false,
     "start_time": "2023-04-03T22:49:37.121514",
     "status": "completed"
    },
    "tags": []
   },
   "outputs": [
    {
     "name": "stdout",
     "output_type": "stream",
     "text": [
      "Submissions with a score of 0.81818 are in the top 0.35 %\n"
     ]
    }
   ],
   "source": [
    "percentage = ((100/titanic_lb.shape[0]) * correct_sum)\n",
    "print(\"Submissions with a score of 0.81818 are in the top\", \n",
    "      str(round(percentage, 2)),\"%\")"
   ]
  },
  {
   "cell_type": "markdown",
   "id": "521c900a",
   "metadata": {
    "papermill": {
     "duration": 0.023017,
     "end_time": "2023-04-03T22:49:37.202588",
     "exception": false,
     "start_time": "2023-04-03T22:49:37.179571",
     "status": "completed"
    },
    "tags": []
   },
   "source": [
    "# 📤 Submission\n",
    "\n",
    "This code creates a DataFrame called *output* which contains the passenger IDs from the test dataset as the first column. Then, it adds the predicted *Survived* values from the *y_pred* array as the second column. Finally, it exports this DataFrame to a CSV file called **submission.csv** which is saved in the current working directory. This file can be submitted to the Kaggle competition for evaluation."
   ]
  },
  {
   "cell_type": "code",
   "execution_count": 42,
   "id": "d1c73422",
   "metadata": {
    "execution": {
     "iopub.execute_input": "2023-04-03T22:49:37.251901Z",
     "iopub.status.busy": "2023-04-03T22:49:37.251088Z",
     "iopub.status.idle": "2023-04-03T22:49:37.269357Z",
     "shell.execute_reply": "2023-04-03T22:49:37.268339Z"
    },
    "papermill": {
     "duration": 0.046526,
     "end_time": "2023-04-03T22:49:37.272258",
     "exception": false,
     "start_time": "2023-04-03T22:49:37.225732",
     "status": "completed"
    },
    "tags": []
   },
   "outputs": [],
   "source": [
    "output = pd.DataFrame(pd.read_csv(\"../input/titanic/test.csv\")['PassengerId'])\n",
    "output['Survived'] = y_pred\n",
    "output.to_csv(\"../working/submission.csv\", index = False)"
   ]
  },
  {
   "cell_type": "markdown",
   "id": "b79baa0c",
   "metadata": {
    "papermill": {
     "duration": 0.023396,
     "end_time": "2023-04-03T22:49:37.319559",
     "exception": false,
     "start_time": "2023-04-03T22:49:37.296163",
     "status": "completed"
    },
    "tags": []
   },
   "source": [
    "# 📝 Note of the author\n",
    "\n",
    "Firstly, I would like to express my sincerest gratitude to all of you who took the time to read this notebook. I am a French engineering student studying Data Science and I am still inexperienced in this field. I am always looking to improve, and I would love to hear your thoughts on how I can make this notebook and/or predictive model even better. So please, feel free to reach out to me with any comments or suggestions. If you found this notebook helpful or interesting, please consider upvoting it. Your support means the world to me, and it will encourage me to continue sharing my work with the community.\n",
    "\n",
    "Thank you once again for your time and for being a part of my learning journey. **--Lucas**"
   ]
  },
  {
   "cell_type": "markdown",
   "id": "ea0bb239",
   "metadata": {
    "papermill": {
     "duration": 0.023375,
     "end_time": "2023-04-03T22:49:37.366198",
     "exception": false,
     "start_time": "2023-04-03T22:49:37.342823",
     "status": "completed"
    },
    "tags": []
   },
   "source": [
    "> #### Check out my other cool notebook !\n",
    "> - [🛳️ Titanic EDA and Prediction [0.78229]](https://www.kaggle.com/code/dreygaen/titanic-eda-and-prediction-0-78229)"
   ]
  },
  {
   "cell_type": "markdown",
   "id": "22f0e695",
   "metadata": {
    "papermill": {
     "duration": 0.022809,
     "end_time": "2023-04-03T22:49:37.412640",
     "exception": false,
     "start_time": "2023-04-03T22:49:37.389831",
     "status": "completed"
    },
    "tags": []
   },
   "source": [
    "# 👏 Credits\n",
    "\n",
    "- [KONSTANTIN](https://www.kaggle.com/code/konstantinmasich/titanic-0-82-0-83) for the ideas.\n",
    "- [S.XU](https://www.kaggle.com/code/shunjiangxu/blood-is-thicker-than-water-friendship-forever/notebook) for the family grouping.\n",
    "- [CARL MCBRIDE ELLIS](https://www.kaggle.com/code/carlmcbrideellis/titanic-leaderboard-a-score-0-8-is-great) for the leaderboard filtering idea\n",
    "\n",
    "[Back to the top](#🛳️-Titanic---Top-1%-with-KNN-[0.81818])"
   ]
  }
 ],
 "metadata": {
  "kernelspec": {
   "display_name": "Python 3",
   "language": "python",
   "name": "python3"
  },
  "language_info": {
   "codemirror_mode": {
    "name": "ipython",
    "version": 3
   },
   "file_extension": ".py",
   "mimetype": "text/x-python",
   "name": "python",
   "nbconvert_exporter": "python",
   "pygments_lexer": "ipython3",
   "version": "3.7.12"
  },
  "papermill": {
   "default_parameters": {},
   "duration": 40.659606,
   "end_time": "2023-04-03T22:49:38.460934",
   "environment_variables": {},
   "exception": null,
   "input_path": "__notebook__.ipynb",
   "output_path": "__notebook__.ipynb",
   "parameters": {},
   "start_time": "2023-04-03T22:48:57.801328",
   "version": "2.4.0"
  }
 },
 "nbformat": 4,
 "nbformat_minor": 5
}
